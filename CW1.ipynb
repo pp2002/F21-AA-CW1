{
 "cells": [
  {
   "cell_type": "code",
   "execution_count": 46,
   "metadata": {},
   "outputs": [],
   "source": [
    "# Importing libraries\n",
    "import pandas as pd\n",
    "import numpy as np\n",
    "import matplotlib.pyplot as plt\n",
    "%matplotlib inline\n",
    "import string\n",
    "from nltk.corpus import stopwords\n",
    "import nltk\n",
    "from sklearn.linear_model import LogisticRegression\n",
    "from sklearn.feature_extraction.text import TfidfVectorizer, CountVectorizer\n",
    "from sklearn.naive_bayes import MultinomialNB\n",
    "from sklearn.metrics import classification_report\n",
    "from sklearn.model_selection import train_test_split\n",
    "from sklearn.metrics import accuracy_score\n",
    "from sklearn.model_selection import cross_val_score\n",
    "from textblob import Word, TextBlob\n",
    "import Stemmer\n",
    "from sklearn.linear_model import SGDClassifier\n",
    "from sklearn.model_selection import GridSearchCV\n",
    "from sklearn.decomposition import LatentDirichletAllocation\n",
    "import mglearn\n",
    "import tensorflow as tf\n",
    "from wordcloud import WordCloud"
   ]
  },
  {
   "cell_type": "code",
   "execution_count": 47,
   "metadata": {},
   "outputs": [],
   "source": [
    "# Importing dataset\n",
    "train = pd.read_csv('train.csv')"
   ]
  },
  {
   "cell_type": "code",
   "execution_count": 48,
   "metadata": {},
   "outputs": [
    {
     "data": {
      "text/html": [
       "<div>\n",
       "<style scoped>\n",
       "    .dataframe tbody tr th:only-of-type {\n",
       "        vertical-align: middle;\n",
       "    }\n",
       "\n",
       "    .dataframe tbody tr th {\n",
       "        vertical-align: top;\n",
       "    }\n",
       "\n",
       "    .dataframe thead th {\n",
       "        text-align: right;\n",
       "    }\n",
       "</style>\n",
       "<table border=\"1\" class=\"dataframe\">\n",
       "  <thead>\n",
       "    <tr style=\"text-align: right;\">\n",
       "      <th></th>\n",
       "      <th>Id</th>\n",
       "      <th>ProductId</th>\n",
       "      <th>UserId</th>\n",
       "      <th>ProfileName</th>\n",
       "      <th>HelpfulnessNumerator</th>\n",
       "      <th>HelpfulnessDenominator</th>\n",
       "      <th>Score</th>\n",
       "      <th>Time</th>\n",
       "      <th>Summary</th>\n",
       "      <th>Text</th>\n",
       "    </tr>\n",
       "  </thead>\n",
       "  <tbody>\n",
       "    <tr>\n",
       "      <th>0</th>\n",
       "      <td>220291</td>\n",
       "      <td>B0034EDLS2</td>\n",
       "      <td>AVF82BC7S0IO7</td>\n",
       "      <td>Kbrown</td>\n",
       "      <td>0</td>\n",
       "      <td>0</td>\n",
       "      <td>5</td>\n",
       "      <td>1332806400</td>\n",
       "      <td>Very Good</td>\n",
       "      <td>I received this product early from the seller!...</td>\n",
       "    </tr>\n",
       "    <tr>\n",
       "      <th>1</th>\n",
       "      <td>225833</td>\n",
       "      <td>B001I7HJE4</td>\n",
       "      <td>A1YUL9PCJR3JTY</td>\n",
       "      <td>O. Brown \"Ms. O. Khannah-Brown\"</td>\n",
       "      <td>1</td>\n",
       "      <td>1</td>\n",
       "      <td>5</td>\n",
       "      <td>1190160000</td>\n",
       "      <td>Organic, Kosher, Tasty Assortment of Premium T...</td>\n",
       "      <td>*****&lt;br /&gt;Numi's Collection Assortment Melang...</td>\n",
       "    </tr>\n",
       "    <tr>\n",
       "      <th>2</th>\n",
       "      <td>350901</td>\n",
       "      <td>B000LKTB90</td>\n",
       "      <td>A1BBPP1EC75JX4</td>\n",
       "      <td>Johan Bollen \"gekhond\"</td>\n",
       "      <td>0</td>\n",
       "      <td>0</td>\n",
       "      <td>5</td>\n",
       "      <td>1285977600</td>\n",
       "      <td>excellent gluten-free spaghetti: great taste, ...</td>\n",
       "      <td>I was very careful not to overcook this pasta,...</td>\n",
       "    </tr>\n",
       "    <tr>\n",
       "      <th>3</th>\n",
       "      <td>299801</td>\n",
       "      <td>B001HXJPS2</td>\n",
       "      <td>A5QSI9MNS8NMS</td>\n",
       "      <td>M. Esaili</td>\n",
       "      <td>0</td>\n",
       "      <td>0</td>\n",
       "      <td>5</td>\n",
       "      <td>1338163200</td>\n",
       "      <td>Lindt is Lindt</td>\n",
       "      <td>Buying this multi-pack I was misled by the pic...</td>\n",
       "    </tr>\n",
       "    <tr>\n",
       "      <th>4</th>\n",
       "      <td>48472</td>\n",
       "      <td>B006H34CUS</td>\n",
       "      <td>A20IBAIRSNBEAQ</td>\n",
       "      <td>Chelsea</td>\n",
       "      <td>0</td>\n",
       "      <td>0</td>\n",
       "      <td>5</td>\n",
       "      <td>1343606400</td>\n",
       "      <td>YUM!!!!!</td>\n",
       "      <td>These bars are so good! I loved them warmed up...</td>\n",
       "    </tr>\n",
       "  </tbody>\n",
       "</table>\n",
       "</div>"
      ],
      "text/plain": [
       "       Id   ProductId          UserId                      ProfileName  \\\n",
       "0  220291  B0034EDLS2   AVF82BC7S0IO7                           Kbrown   \n",
       "1  225833  B001I7HJE4  A1YUL9PCJR3JTY  O. Brown \"Ms. O. Khannah-Brown\"   \n",
       "2  350901  B000LKTB90  A1BBPP1EC75JX4           Johan Bollen \"gekhond\"   \n",
       "3  299801  B001HXJPS2   A5QSI9MNS8NMS                        M. Esaili   \n",
       "4   48472  B006H34CUS  A20IBAIRSNBEAQ                          Chelsea   \n",
       "\n",
       "   HelpfulnessNumerator  HelpfulnessDenominator  Score        Time  \\\n",
       "0                     0                       0      5  1332806400   \n",
       "1                     1                       1      5  1190160000   \n",
       "2                     0                       0      5  1285977600   \n",
       "3                     0                       0      5  1338163200   \n",
       "4                     0                       0      5  1343606400   \n",
       "\n",
       "                                             Summary  \\\n",
       "0                                          Very Good   \n",
       "1  Organic, Kosher, Tasty Assortment of Premium T...   \n",
       "2  excellent gluten-free spaghetti: great taste, ...   \n",
       "3                                     Lindt is Lindt   \n",
       "4                                           YUM!!!!!   \n",
       "\n",
       "                                                Text  \n",
       "0  I received this product early from the seller!...  \n",
       "1  *****<br />Numi's Collection Assortment Melang...  \n",
       "2  I was very careful not to overcook this pasta,...  \n",
       "3  Buying this multi-pack I was misled by the pic...  \n",
       "4  These bars are so good! I loved them warmed up...  "
      ]
     },
     "execution_count": 48,
     "metadata": {},
     "output_type": "execute_result"
    }
   ],
   "source": [
    "# Inspecting dataset\n",
    "train.head()"
   ]
  },
  {
   "cell_type": "code",
   "execution_count": 49,
   "metadata": {},
   "outputs": [
    {
     "name": "stdout",
     "output_type": "stream",
     "text": [
      "<class 'pandas.core.frame.DataFrame'>\n",
      "RangeIndex: 426340 entries, 0 to 426339\n",
      "Data columns (total 10 columns):\n",
      " #   Column                  Non-Null Count   Dtype \n",
      "---  ------                  --------------   ----- \n",
      " 0   Id                      426340 non-null  int64 \n",
      " 1   ProductId               426340 non-null  object\n",
      " 2   UserId                  426340 non-null  object\n",
      " 3   ProfileName             426326 non-null  object\n",
      " 4   HelpfulnessNumerator    426340 non-null  int64 \n",
      " 5   HelpfulnessDenominator  426340 non-null  int64 \n",
      " 6   Score                   426340 non-null  int64 \n",
      " 7   Time                    426340 non-null  int64 \n",
      " 8   Summary                 426320 non-null  object\n",
      " 9   Text                    426340 non-null  object\n",
      "dtypes: int64(5), object(5)\n",
      "memory usage: 32.5+ MB\n"
     ]
    }
   ],
   "source": [
    "# Information regarding the dataset\n",
    "train.info()"
   ]
  },
  {
   "cell_type": "code",
   "execution_count": 50,
   "metadata": {},
   "outputs": [
    {
     "data": {
      "text/html": [
       "<div>\n",
       "<style scoped>\n",
       "    .dataframe tbody tr th:only-of-type {\n",
       "        vertical-align: middle;\n",
       "    }\n",
       "\n",
       "    .dataframe tbody tr th {\n",
       "        vertical-align: top;\n",
       "    }\n",
       "\n",
       "    .dataframe thead th {\n",
       "        text-align: right;\n",
       "    }\n",
       "</style>\n",
       "<table border=\"1\" class=\"dataframe\">\n",
       "  <thead>\n",
       "    <tr style=\"text-align: right;\">\n",
       "      <th></th>\n",
       "      <th>Id</th>\n",
       "      <th>HelpfulnessNumerator</th>\n",
       "      <th>HelpfulnessDenominator</th>\n",
       "      <th>Score</th>\n",
       "      <th>Time</th>\n",
       "    </tr>\n",
       "  </thead>\n",
       "  <tbody>\n",
       "    <tr>\n",
       "      <th>count</th>\n",
       "      <td>426340.000000</td>\n",
       "      <td>426340.000000</td>\n",
       "      <td>426340.000000</td>\n",
       "      <td>426340.000000</td>\n",
       "      <td>4.263400e+05</td>\n",
       "    </tr>\n",
       "    <tr>\n",
       "      <th>mean</th>\n",
       "      <td>284300.799618</td>\n",
       "      <td>1.733159</td>\n",
       "      <td>2.220244</td>\n",
       "      <td>4.183455</td>\n",
       "      <td>1.296222e+09</td>\n",
       "    </tr>\n",
       "    <tr>\n",
       "      <th>std</th>\n",
       "      <td>164012.600602</td>\n",
       "      <td>7.328184</td>\n",
       "      <td>8.014894</td>\n",
       "      <td>1.310577</td>\n",
       "      <td>4.808061e+07</td>\n",
       "    </tr>\n",
       "    <tr>\n",
       "      <th>min</th>\n",
       "      <td>1.000000</td>\n",
       "      <td>0.000000</td>\n",
       "      <td>0.000000</td>\n",
       "      <td>1.000000</td>\n",
       "      <td>9.408096e+08</td>\n",
       "    </tr>\n",
       "    <tr>\n",
       "      <th>25%</th>\n",
       "      <td>142363.750000</td>\n",
       "      <td>0.000000</td>\n",
       "      <td>0.000000</td>\n",
       "      <td>4.000000</td>\n",
       "      <td>1.271203e+09</td>\n",
       "    </tr>\n",
       "    <tr>\n",
       "      <th>50%</th>\n",
       "      <td>284308.500000</td>\n",
       "      <td>0.000000</td>\n",
       "      <td>1.000000</td>\n",
       "      <td>5.000000</td>\n",
       "      <td>1.311034e+09</td>\n",
       "    </tr>\n",
       "    <tr>\n",
       "      <th>75%</th>\n",
       "      <td>426183.250000</td>\n",
       "      <td>2.000000</td>\n",
       "      <td>2.000000</td>\n",
       "      <td>5.000000</td>\n",
       "      <td>1.332720e+09</td>\n",
       "    </tr>\n",
       "    <tr>\n",
       "      <th>max</th>\n",
       "      <td>568454.000000</td>\n",
       "      <td>844.000000</td>\n",
       "      <td>923.000000</td>\n",
       "      <td>5.000000</td>\n",
       "      <td>1.351210e+09</td>\n",
       "    </tr>\n",
       "  </tbody>\n",
       "</table>\n",
       "</div>"
      ],
      "text/plain": [
       "                  Id  HelpfulnessNumerator  HelpfulnessDenominator  \\\n",
       "count  426340.000000         426340.000000           426340.000000   \n",
       "mean   284300.799618              1.733159                2.220244   \n",
       "std    164012.600602              7.328184                8.014894   \n",
       "min         1.000000              0.000000                0.000000   \n",
       "25%    142363.750000              0.000000                0.000000   \n",
       "50%    284308.500000              0.000000                1.000000   \n",
       "75%    426183.250000              2.000000                2.000000   \n",
       "max    568454.000000            844.000000              923.000000   \n",
       "\n",
       "               Score          Time  \n",
       "count  426340.000000  4.263400e+05  \n",
       "mean        4.183455  1.296222e+09  \n",
       "std         1.310577  4.808061e+07  \n",
       "min         1.000000  9.408096e+08  \n",
       "25%         4.000000  1.271203e+09  \n",
       "50%         5.000000  1.311034e+09  \n",
       "75%         5.000000  1.332720e+09  \n",
       "max         5.000000  1.351210e+09  "
      ]
     },
     "execution_count": 50,
     "metadata": {},
     "output_type": "execute_result"
    }
   ],
   "source": [
    "# Statistics of the dataset\n",
    "train.describe()"
   ]
  },
  {
   "cell_type": "code",
   "execution_count": 51,
   "metadata": {},
   "outputs": [],
   "source": [
    "# Replacing null values with blank space for Summary and Text columns\n",
    "train.Summary.fillna('', inplace=True)\n",
    "train.Text.fillna('', inplace=True)"
   ]
  },
  {
   "cell_type": "code",
   "execution_count": 52,
   "metadata": {},
   "outputs": [
    {
     "data": {
      "text/html": [
       "<div>\n",
       "<style scoped>\n",
       "    .dataframe tbody tr th:only-of-type {\n",
       "        vertical-align: middle;\n",
       "    }\n",
       "\n",
       "    .dataframe tbody tr th {\n",
       "        vertical-align: top;\n",
       "    }\n",
       "\n",
       "    .dataframe thead th {\n",
       "        text-align: right;\n",
       "    }\n",
       "</style>\n",
       "<table border=\"1\" class=\"dataframe\">\n",
       "  <thead>\n",
       "    <tr style=\"text-align: right;\">\n",
       "      <th></th>\n",
       "      <th>Id</th>\n",
       "      <th>ProductId</th>\n",
       "      <th>UserId</th>\n",
       "      <th>ProfileName</th>\n",
       "      <th>HelpfulnessNumerator</th>\n",
       "      <th>HelpfulnessDenominator</th>\n",
       "      <th>Score</th>\n",
       "      <th>Time</th>\n",
       "      <th>Summary</th>\n",
       "      <th>Text</th>\n",
       "    </tr>\n",
       "  </thead>\n",
       "  <tbody>\n",
       "    <tr>\n",
       "      <th>0</th>\n",
       "      <td>220291</td>\n",
       "      <td>B0034EDLS2</td>\n",
       "      <td>AVF82BC7S0IO7</td>\n",
       "      <td>Kbrown</td>\n",
       "      <td>0</td>\n",
       "      <td>0</td>\n",
       "      <td>5</td>\n",
       "      <td>1332806400</td>\n",
       "      <td>Very Good</td>\n",
       "      <td>I received this product early from the seller!...</td>\n",
       "    </tr>\n",
       "    <tr>\n",
       "      <th>1</th>\n",
       "      <td>225833</td>\n",
       "      <td>B001I7HJE4</td>\n",
       "      <td>A1YUL9PCJR3JTY</td>\n",
       "      <td>O. Brown \"Ms. O. Khannah-Brown\"</td>\n",
       "      <td>1</td>\n",
       "      <td>1</td>\n",
       "      <td>5</td>\n",
       "      <td>1190160000</td>\n",
       "      <td>Organic, Kosher, Tasty Assortment of Premium T...</td>\n",
       "      <td>*****&lt;br /&gt;Numi's Collection Assortment Melang...</td>\n",
       "    </tr>\n",
       "    <tr>\n",
       "      <th>2</th>\n",
       "      <td>350901</td>\n",
       "      <td>B000LKTB90</td>\n",
       "      <td>A1BBPP1EC75JX4</td>\n",
       "      <td>Johan Bollen \"gekhond\"</td>\n",
       "      <td>0</td>\n",
       "      <td>0</td>\n",
       "      <td>5</td>\n",
       "      <td>1285977600</td>\n",
       "      <td>excellent gluten-free spaghetti: great taste, ...</td>\n",
       "      <td>I was very careful not to overcook this pasta,...</td>\n",
       "    </tr>\n",
       "    <tr>\n",
       "      <th>3</th>\n",
       "      <td>299801</td>\n",
       "      <td>B001HXJPS2</td>\n",
       "      <td>A5QSI9MNS8NMS</td>\n",
       "      <td>M. Esaili</td>\n",
       "      <td>0</td>\n",
       "      <td>0</td>\n",
       "      <td>5</td>\n",
       "      <td>1338163200</td>\n",
       "      <td>Lindt is Lindt</td>\n",
       "      <td>Buying this multi-pack I was misled by the pic...</td>\n",
       "    </tr>\n",
       "    <tr>\n",
       "      <th>4</th>\n",
       "      <td>48472</td>\n",
       "      <td>B006H34CUS</td>\n",
       "      <td>A20IBAIRSNBEAQ</td>\n",
       "      <td>Chelsea</td>\n",
       "      <td>0</td>\n",
       "      <td>0</td>\n",
       "      <td>5</td>\n",
       "      <td>1343606400</td>\n",
       "      <td>YUM!!!!!</td>\n",
       "      <td>These bars are so good! I loved them warmed up...</td>\n",
       "    </tr>\n",
       "  </tbody>\n",
       "</table>\n",
       "</div>"
      ],
      "text/plain": [
       "       Id   ProductId          UserId                      ProfileName  \\\n",
       "0  220291  B0034EDLS2   AVF82BC7S0IO7                           Kbrown   \n",
       "1  225833  B001I7HJE4  A1YUL9PCJR3JTY  O. Brown \"Ms. O. Khannah-Brown\"   \n",
       "2  350901  B000LKTB90  A1BBPP1EC75JX4           Johan Bollen \"gekhond\"   \n",
       "3  299801  B001HXJPS2   A5QSI9MNS8NMS                        M. Esaili   \n",
       "4   48472  B006H34CUS  A20IBAIRSNBEAQ                          Chelsea   \n",
       "\n",
       "   HelpfulnessNumerator  HelpfulnessDenominator  Score        Time  \\\n",
       "0                     0                       0      5  1332806400   \n",
       "1                     1                       1      5  1190160000   \n",
       "2                     0                       0      5  1285977600   \n",
       "3                     0                       0      5  1338163200   \n",
       "4                     0                       0      5  1343606400   \n",
       "\n",
       "                                             Summary  \\\n",
       "0                                          Very Good   \n",
       "1  Organic, Kosher, Tasty Assortment of Premium T...   \n",
       "2  excellent gluten-free spaghetti: great taste, ...   \n",
       "3                                     Lindt is Lindt   \n",
       "4                                           YUM!!!!!   \n",
       "\n",
       "                                                Text  \n",
       "0  I received this product early from the seller!...  \n",
       "1  *****<br />Numi's Collection Assortment Melang...  \n",
       "2  I was very careful not to overcook this pasta,...  \n",
       "3  Buying this multi-pack I was misled by the pic...  \n",
       "4  These bars are so good! I loved them warmed up...  "
      ]
     },
     "execution_count": 52,
     "metadata": {},
     "output_type": "execute_result"
    }
   ],
   "source": [
    "# Inspecting dataset\n",
    "train.head()"
   ]
  },
  {
   "cell_type": "code",
   "execution_count": 53,
   "metadata": {},
   "outputs": [],
   "source": [
    "# Creating new field called summary text which combines summary and text into one field\n",
    "train['summary_text'] = train['Summary'] + ' ' + train['Text']"
   ]
  },
  {
   "cell_type": "code",
   "execution_count": 54,
   "metadata": {},
   "outputs": [
    {
     "data": {
      "text/html": [
       "<div>\n",
       "<style scoped>\n",
       "    .dataframe tbody tr th:only-of-type {\n",
       "        vertical-align: middle;\n",
       "    }\n",
       "\n",
       "    .dataframe tbody tr th {\n",
       "        vertical-align: top;\n",
       "    }\n",
       "\n",
       "    .dataframe thead th {\n",
       "        text-align: right;\n",
       "    }\n",
       "</style>\n",
       "<table border=\"1\" class=\"dataframe\">\n",
       "  <thead>\n",
       "    <tr style=\"text-align: right;\">\n",
       "      <th></th>\n",
       "      <th>Id</th>\n",
       "      <th>ProductId</th>\n",
       "      <th>UserId</th>\n",
       "      <th>ProfileName</th>\n",
       "      <th>HelpfulnessNumerator</th>\n",
       "      <th>HelpfulnessDenominator</th>\n",
       "      <th>Score</th>\n",
       "      <th>Time</th>\n",
       "      <th>Summary</th>\n",
       "      <th>Text</th>\n",
       "      <th>summary_text</th>\n",
       "    </tr>\n",
       "  </thead>\n",
       "  <tbody>\n",
       "    <tr>\n",
       "      <th>0</th>\n",
       "      <td>220291</td>\n",
       "      <td>B0034EDLS2</td>\n",
       "      <td>AVF82BC7S0IO7</td>\n",
       "      <td>Kbrown</td>\n",
       "      <td>0</td>\n",
       "      <td>0</td>\n",
       "      <td>5</td>\n",
       "      <td>1332806400</td>\n",
       "      <td>Very Good</td>\n",
       "      <td>I received this product early from the seller!...</td>\n",
       "      <td>Very Good I received this product early from t...</td>\n",
       "    </tr>\n",
       "    <tr>\n",
       "      <th>1</th>\n",
       "      <td>225833</td>\n",
       "      <td>B001I7HJE4</td>\n",
       "      <td>A1YUL9PCJR3JTY</td>\n",
       "      <td>O. Brown \"Ms. O. Khannah-Brown\"</td>\n",
       "      <td>1</td>\n",
       "      <td>1</td>\n",
       "      <td>5</td>\n",
       "      <td>1190160000</td>\n",
       "      <td>Organic, Kosher, Tasty Assortment of Premium T...</td>\n",
       "      <td>*****&lt;br /&gt;Numi's Collection Assortment Melang...</td>\n",
       "      <td>Organic, Kosher, Tasty Assortment of Premium T...</td>\n",
       "    </tr>\n",
       "    <tr>\n",
       "      <th>2</th>\n",
       "      <td>350901</td>\n",
       "      <td>B000LKTB90</td>\n",
       "      <td>A1BBPP1EC75JX4</td>\n",
       "      <td>Johan Bollen \"gekhond\"</td>\n",
       "      <td>0</td>\n",
       "      <td>0</td>\n",
       "      <td>5</td>\n",
       "      <td>1285977600</td>\n",
       "      <td>excellent gluten-free spaghetti: great taste, ...</td>\n",
       "      <td>I was very careful not to overcook this pasta,...</td>\n",
       "      <td>excellent gluten-free spaghetti: great taste, ...</td>\n",
       "    </tr>\n",
       "    <tr>\n",
       "      <th>3</th>\n",
       "      <td>299801</td>\n",
       "      <td>B001HXJPS2</td>\n",
       "      <td>A5QSI9MNS8NMS</td>\n",
       "      <td>M. Esaili</td>\n",
       "      <td>0</td>\n",
       "      <td>0</td>\n",
       "      <td>5</td>\n",
       "      <td>1338163200</td>\n",
       "      <td>Lindt is Lindt</td>\n",
       "      <td>Buying this multi-pack I was misled by the pic...</td>\n",
       "      <td>Lindt is Lindt Buying this multi-pack I was mi...</td>\n",
       "    </tr>\n",
       "    <tr>\n",
       "      <th>4</th>\n",
       "      <td>48472</td>\n",
       "      <td>B006H34CUS</td>\n",
       "      <td>A20IBAIRSNBEAQ</td>\n",
       "      <td>Chelsea</td>\n",
       "      <td>0</td>\n",
       "      <td>0</td>\n",
       "      <td>5</td>\n",
       "      <td>1343606400</td>\n",
       "      <td>YUM!!!!!</td>\n",
       "      <td>These bars are so good! I loved them warmed up...</td>\n",
       "      <td>YUM!!!!! These bars are so good! I loved them ...</td>\n",
       "    </tr>\n",
       "  </tbody>\n",
       "</table>\n",
       "</div>"
      ],
      "text/plain": [
       "       Id   ProductId          UserId                      ProfileName  \\\n",
       "0  220291  B0034EDLS2   AVF82BC7S0IO7                           Kbrown   \n",
       "1  225833  B001I7HJE4  A1YUL9PCJR3JTY  O. Brown \"Ms. O. Khannah-Brown\"   \n",
       "2  350901  B000LKTB90  A1BBPP1EC75JX4           Johan Bollen \"gekhond\"   \n",
       "3  299801  B001HXJPS2   A5QSI9MNS8NMS                        M. Esaili   \n",
       "4   48472  B006H34CUS  A20IBAIRSNBEAQ                          Chelsea   \n",
       "\n",
       "   HelpfulnessNumerator  HelpfulnessDenominator  Score        Time  \\\n",
       "0                     0                       0      5  1332806400   \n",
       "1                     1                       1      5  1190160000   \n",
       "2                     0                       0      5  1285977600   \n",
       "3                     0                       0      5  1338163200   \n",
       "4                     0                       0      5  1343606400   \n",
       "\n",
       "                                             Summary  \\\n",
       "0                                          Very Good   \n",
       "1  Organic, Kosher, Tasty Assortment of Premium T...   \n",
       "2  excellent gluten-free spaghetti: great taste, ...   \n",
       "3                                     Lindt is Lindt   \n",
       "4                                           YUM!!!!!   \n",
       "\n",
       "                                                Text  \\\n",
       "0  I received this product early from the seller!...   \n",
       "1  *****<br />Numi's Collection Assortment Melang...   \n",
       "2  I was very careful not to overcook this pasta,...   \n",
       "3  Buying this multi-pack I was misled by the pic...   \n",
       "4  These bars are so good! I loved them warmed up...   \n",
       "\n",
       "                                        summary_text  \n",
       "0  Very Good I received this product early from t...  \n",
       "1  Organic, Kosher, Tasty Assortment of Premium T...  \n",
       "2  excellent gluten-free spaghetti: great taste, ...  \n",
       "3  Lindt is Lindt Buying this multi-pack I was mi...  \n",
       "4  YUM!!!!! These bars are so good! I loved them ...  "
      ]
     },
     "execution_count": 54,
     "metadata": {},
     "output_type": "execute_result"
    }
   ],
   "source": [
    "# Inspecting the dataset after adding new field\n",
    "train.head()"
   ]
  },
  {
   "cell_type": "code",
   "execution_count": 55,
   "metadata": {},
   "outputs": [
    {
     "data": {
      "text/plain": [
       "Id                                                                   220291\n",
       "ProductId                                                        B0034EDLS2\n",
       "UserId                                                        AVF82BC7S0IO7\n",
       "ProfileName                                                          Kbrown\n",
       "HelpfulnessNumerator                                                      0\n",
       "HelpfulnessDenominator                                                    0\n",
       "Score                                                                     5\n",
       "Time                                                             1332806400\n",
       "Summary                                                           Very Good\n",
       "Text                      I received this product early from the seller!...\n",
       "summary_text              Very Good I received this product early from t...\n",
       "Name: 0, dtype: object"
      ]
     },
     "execution_count": 55,
     "metadata": {},
     "output_type": "execute_result"
    }
   ],
   "source": [
    "# Inspecting the first row of the dataset\n",
    "train.loc[0]"
   ]
  },
  {
   "cell_type": "code",
   "execution_count": 56,
   "metadata": {},
   "outputs": [
    {
     "data": {
      "text/plain": [
       "Id                                                                   225833\n",
       "ProductId                                                        B001I7HJE4\n",
       "UserId                                                       A1YUL9PCJR3JTY\n",
       "ProfileName                                 O. Brown \"Ms. O. Khannah-Brown\"\n",
       "HelpfulnessNumerator                                                      1\n",
       "HelpfulnessDenominator                                                    1\n",
       "Score                                                                     5\n",
       "Time                                                             1190160000\n",
       "Summary                   Organic, Kosher, Tasty Assortment of Premium T...\n",
       "Text                      *****<br />Numi's Collection Assortment Melang...\n",
       "summary_text              Organic, Kosher, Tasty Assortment of Premium T...\n",
       "Name: 1, dtype: object"
      ]
     },
     "execution_count": 56,
     "metadata": {},
     "output_type": "execute_result"
    }
   ],
   "source": [
    "# Inspecting the 2nd row of the dataset\n",
    "train.loc[1]"
   ]
  },
  {
   "cell_type": "code",
   "execution_count": 57,
   "metadata": {},
   "outputs": [
    {
     "data": {
      "text/plain": [
       "'*****<br />Numi\\'s Collection Assortment Melange includes:<br />5 Herbal Teas (caffeine-free, also called \"teasans\"):<br />* Dry Desert Lime: Lime Herbal Teasan<br />* Fields of Gold: Lemongrass Herbal Teasan<br />* Red Mellow Bush: Rooibos Herbal Teasan<br />* Bushmen\\'s Brew: Honeybush Herbal Teasan<br />* Simply Mint: Moroccan Mint<br /><br />2 Green Teas (lower in caffeine):<br />* Temple of Heaven: Gunpowder Green Tea<br />* Monkey King: Jasmine Green Tea<br /><br />2 Black Teas (contain caffeine):<br />* Chinese Breakfast: Yunnan Black Tea<br />* Smoky Tarry: Lapsang Souchong Black Tea<br /><br />This is a total of nine different teas, two tea bags of each one in each box. Numi teas are known for their high-quality, organic and kosher ingredients, and in my opinion, are some of the tastiest and best teas I have ever tried. They do not include artificial ingredients or flavorings.<br /><br />On the box, the manufacturer writes: \"From mist-covered mountains to sun-drenched deserts to fertile fields, we proudly bring you our tea palette. The flavors range from smooth earthiness, and light floral scents, to refreshingly sweet and sour notes. What they all share is the recollection of how some Ancient One tamed fire and water to coexist harmoniously, and steeped in them the gifts of Nature. Since that distant past, people have soothed, roused, healed, explored and celebrated with these wonderful infusions. We encourage you to do the same with Numi\\'s finest.\"<br /><br />The price is perfect, a big savings over single boxes. If you like Numi teas and want to sample a wonderful assortment, get it---you won\\'t be sorry. There may be some you like and others you don\\'t, but sampling them will be a delightful experience. If you are new to Numi this is an excellent way to sample their high-quality teas. I do not think you could find a better source of premium tea than Numi.<br /><br />Highly recommended.<br />*****'"
      ]
     },
     "execution_count": 57,
     "metadata": {},
     "output_type": "execute_result"
    }
   ],
   "source": [
    "# Inspecting the text column in the 2nd row of the dataset\n",
    "train.loc[1,'Text']"
   ]
  },
  {
   "cell_type": "code",
   "execution_count": 58,
   "metadata": {},
   "outputs": [
    {
     "data": {
      "text/plain": [
       "'Organic, Kosher, Tasty Assortment of Premium Teas & Teasans *****<br />Numi\\'s Collection Assortment Melange includes:<br />5 Herbal Teas (caffeine-free, also called \"teasans\"):<br />* Dry Desert Lime: Lime Herbal Teasan<br />* Fields of Gold: Lemongrass Herbal Teasan<br />* Red Mellow Bush: Rooibos Herbal Teasan<br />* Bushmen\\'s Brew: Honeybush Herbal Teasan<br />* Simply Mint: Moroccan Mint<br /><br />2 Green Teas (lower in caffeine):<br />* Temple of Heaven: Gunpowder Green Tea<br />* Monkey King: Jasmine Green Tea<br /><br />2 Black Teas (contain caffeine):<br />* Chinese Breakfast: Yunnan Black Tea<br />* Smoky Tarry: Lapsang Souchong Black Tea<br /><br />This is a total of nine different teas, two tea bags of each one in each box. Numi teas are known for their high-quality, organic and kosher ingredients, and in my opinion, are some of the tastiest and best teas I have ever tried. They do not include artificial ingredients or flavorings.<br /><br />On the box, the manufacturer writes: \"From mist-covered mountains to sun-drenched deserts to fertile fields, we proudly bring you our tea palette. The flavors range from smooth earthiness, and light floral scents, to refreshingly sweet and sour notes. What they all share is the recollection of how some Ancient One tamed fire and water to coexist harmoniously, and steeped in them the gifts of Nature. Since that distant past, people have soothed, roused, healed, explored and celebrated with these wonderful infusions. We encourage you to do the same with Numi\\'s finest.\"<br /><br />The price is perfect, a big savings over single boxes. If you like Numi teas and want to sample a wonderful assortment, get it---you won\\'t be sorry. There may be some you like and others you don\\'t, but sampling them will be a delightful experience. If you are new to Numi this is an excellent way to sample their high-quality teas. I do not think you could find a better source of premium tea than Numi.<br /><br />Highly recommended.<br />*****'"
      ]
     },
     "execution_count": 58,
     "metadata": {},
     "output_type": "execute_result"
    }
   ],
   "source": [
    "# Inspecting the summary text column of the 2nd row in the dataset\n",
    "train.loc[1,'summary_text']"
   ]
  },
  {
   "cell_type": "markdown",
   "metadata": {},
   "source": [
    "# Step 1"
   ]
  },
  {
   "cell_type": "code",
   "execution_count": 59,
   "metadata": {},
   "outputs": [],
   "source": [
    "# Checking for duplicate values of the Text column\n",
    "duplicate = train[train.duplicated('Text')]"
   ]
  },
  {
   "cell_type": "code",
   "execution_count": 60,
   "metadata": {},
   "outputs": [
    {
     "data": {
      "text/plain": [
       "118091"
      ]
     },
     "execution_count": 60,
     "metadata": {},
     "output_type": "execute_result"
    }
   ],
   "source": [
    "# Printing dataframe having duplicate values\n",
    "duplicate['Text'].count()"
   ]
  },
  {
   "cell_type": "code",
   "execution_count": 61,
   "metadata": {},
   "outputs": [],
   "source": [
    "# Dropping duplicate values based on UserId, Profile Name, Time and Text columns\n",
    "train = train.drop_duplicates(subset = {'UserId','ProfileName','Time','Text'}, keep='first')"
   ]
  },
  {
   "cell_type": "code",
   "execution_count": 62,
   "metadata": {},
   "outputs": [
    {
     "data": {
      "text/plain": [
       "308478"
      ]
     },
     "execution_count": 62,
     "metadata": {},
     "output_type": "execute_result"
    }
   ],
   "source": [
    "# Review count after dropping duplicates\n",
    "train['summary_text'].count()"
   ]
  },
  {
   "cell_type": "code",
   "execution_count": 66,
   "metadata": {},
   "outputs": [],
   "source": [
    "# Adding a new field called type which is based on the score given to a review\n",
    "train['Type'] = np.where(train.loc[:,'Score'] == 3, \"Neutral\", np.where(train.loc[:,'Score'] > 3, \"Positive\", \"Negative\"))"
   ]
  },
  {
   "cell_type": "code",
   "execution_count": 67,
   "metadata": {},
   "outputs": [
    {
     "data": {
      "text/plain": [
       "Positive    240558\n",
       "Negative     44669\n",
       "Neutral      23251\n",
       "Name: Type, dtype: int64"
      ]
     },
     "execution_count": 67,
     "metadata": {},
     "output_type": "execute_result"
    }
   ],
   "source": [
    "# Counting values of each type\n",
    "train['Type'].value_counts()"
   ]
  },
  {
   "cell_type": "code",
   "execution_count": 68,
   "metadata": {},
   "outputs": [
    {
     "data": {
      "text/plain": [
       "Text(0.5, 1.0, 'Bar graph representing the no of reviews belonging to each type')"
      ]
     },
     "execution_count": 68,
     "metadata": {},
     "output_type": "execute_result"
    },
    {
     "data": {
      "image/png": "[encoded data removed]",
      "text/plain": [
       "<Figure size 432x288 with 1 Axes>"
      ]
     },
     "metadata": {
      "needs_background": "light"
     },
     "output_type": "display_data"
    }
   ],
   "source": [
    "# Plotting the type column as a bar chart\n",
    "\n",
    "train['Type'].value_counts().plot(kind='bar')\n",
    "plt.xlabel(\"Type of review\")\n",
    "plt.ylabel(\"No of reviews\")\n",
    "plt.title(\"Bar graph representing the no of reviews belonging to each type\")"
   ]
  },
  {
   "cell_type": "code",
   "execution_count": 69,
   "metadata": {},
   "outputs": [
    {
     "data": {
      "text/plain": [
       "Text(0.5, 1.0, 'Pie chart representing percentage of reviews belonging to each score')"
      ]
     },
     "execution_count": 69,
     "metadata": {},
     "output_type": "execute_result"
    },
    {
     "data": {
      "image/png": "[encoded data removed]",
      "text/plain": [
       "<Figure size 432x288 with 1 Axes>"
      ]
     },
     "metadata": {},
     "output_type": "display_data"
    }
   ],
   "source": [
    "# Plotting the score column as a pie chart\n",
    "fig, ax = plt.subplots()\n",
    "explode = (0.1, 0.1, 0.1, 0.1, 0.1)\n",
    "labels = '5','4','1','3','2'\n",
    "ax.pie(train[\"Score\"].value_counts(),explode=explode,autopct='%1.1f%%', labels = labels)\n",
    "plt.title(\"Pie chart representing percentage of reviews belonging to each score\")"
   ]
  },
  {
   "cell_type": "code",
   "execution_count": 71,
   "metadata": {},
   "outputs": [],
   "source": [
    "# Adding a new column called Helpfulness Ratio\n",
    "train['Helpfulness Ratio'] = round(train.loc[:,'HelpfulnessNumerator'] / train.loc[:,'HelpfulnessDenominator'],2)"
   ]
  },
  {
   "cell_type": "code",
   "execution_count": 72,
   "metadata": {},
   "outputs": [
    {
     "data": {
      "text/html": [
       "<div>\n",
       "<style scoped>\n",
       "    .dataframe tbody tr th:only-of-type {\n",
       "        vertical-align: middle;\n",
       "    }\n",
       "\n",
       "    .dataframe tbody tr th {\n",
       "        vertical-align: top;\n",
       "    }\n",
       "\n",
       "    .dataframe thead th {\n",
       "        text-align: right;\n",
       "    }\n",
       "</style>\n",
       "<table border=\"1\" class=\"dataframe\">\n",
       "  <thead>\n",
       "    <tr style=\"text-align: right;\">\n",
       "      <th></th>\n",
       "      <th>Id</th>\n",
       "      <th>ProductId</th>\n",
       "      <th>UserId</th>\n",
       "      <th>ProfileName</th>\n",
       "      <th>HelpfulnessNumerator</th>\n",
       "      <th>HelpfulnessDenominator</th>\n",
       "      <th>Score</th>\n",
       "      <th>Time</th>\n",
       "      <th>Summary</th>\n",
       "      <th>Text</th>\n",
       "      <th>summary_text</th>\n",
       "      <th>Type</th>\n",
       "      <th>Helpfulness Ratio</th>\n",
       "    </tr>\n",
       "  </thead>\n",
       "  <tbody>\n",
       "    <tr>\n",
       "      <th>0</th>\n",
       "      <td>220291</td>\n",
       "      <td>B0034EDLS2</td>\n",
       "      <td>AVF82BC7S0IO7</td>\n",
       "      <td>Kbrown</td>\n",
       "      <td>0</td>\n",
       "      <td>0</td>\n",
       "      <td>5</td>\n",
       "      <td>1332806400</td>\n",
       "      <td>Very Good</td>\n",
       "      <td>I received this product early from the seller!...</td>\n",
       "      <td>Very Good I received this product early from t...</td>\n",
       "      <td>Positive</td>\n",
       "      <td>NaN</td>\n",
       "    </tr>\n",
       "    <tr>\n",
       "      <th>1</th>\n",
       "      <td>225833</td>\n",
       "      <td>B001I7HJE4</td>\n",
       "      <td>A1YUL9PCJR3JTY</td>\n",
       "      <td>O. Brown \"Ms. O. Khannah-Brown\"</td>\n",
       "      <td>1</td>\n",
       "      <td>1</td>\n",
       "      <td>5</td>\n",
       "      <td>1190160000</td>\n",
       "      <td>Organic, Kosher, Tasty Assortment of Premium T...</td>\n",
       "      <td>*****&lt;br /&gt;Numi's Collection Assortment Melang...</td>\n",
       "      <td>Organic, Kosher, Tasty Assortment of Premium T...</td>\n",
       "      <td>Positive</td>\n",
       "      <td>1.0</td>\n",
       "    </tr>\n",
       "    <tr>\n",
       "      <th>2</th>\n",
       "      <td>350901</td>\n",
       "      <td>B000LKTB90</td>\n",
       "      <td>A1BBPP1EC75JX4</td>\n",
       "      <td>Johan Bollen \"gekhond\"</td>\n",
       "      <td>0</td>\n",
       "      <td>0</td>\n",
       "      <td>5</td>\n",
       "      <td>1285977600</td>\n",
       "      <td>excellent gluten-free spaghetti: great taste, ...</td>\n",
       "      <td>I was very careful not to overcook this pasta,...</td>\n",
       "      <td>excellent gluten-free spaghetti: great taste, ...</td>\n",
       "      <td>Positive</td>\n",
       "      <td>NaN</td>\n",
       "    </tr>\n",
       "    <tr>\n",
       "      <th>3</th>\n",
       "      <td>299801</td>\n",
       "      <td>B001HXJPS2</td>\n",
       "      <td>A5QSI9MNS8NMS</td>\n",
       "      <td>M. Esaili</td>\n",
       "      <td>0</td>\n",
       "      <td>0</td>\n",
       "      <td>5</td>\n",
       "      <td>1338163200</td>\n",
       "      <td>Lindt is Lindt</td>\n",
       "      <td>Buying this multi-pack I was misled by the pic...</td>\n",
       "      <td>Lindt is Lindt Buying this multi-pack I was mi...</td>\n",
       "      <td>Positive</td>\n",
       "      <td>NaN</td>\n",
       "    </tr>\n",
       "    <tr>\n",
       "      <th>4</th>\n",
       "      <td>48472</td>\n",
       "      <td>B006H34CUS</td>\n",
       "      <td>A20IBAIRSNBEAQ</td>\n",
       "      <td>Chelsea</td>\n",
       "      <td>0</td>\n",
       "      <td>0</td>\n",
       "      <td>5</td>\n",
       "      <td>1343606400</td>\n",
       "      <td>YUM!!!!!</td>\n",
       "      <td>These bars are so good! I loved them warmed up...</td>\n",
       "      <td>YUM!!!!! These bars are so good! I loved them ...</td>\n",
       "      <td>Positive</td>\n",
       "      <td>NaN</td>\n",
       "    </tr>\n",
       "  </tbody>\n",
       "</table>\n",
       "</div>"
      ],
      "text/plain": [
       "       Id   ProductId          UserId                      ProfileName  \\\n",
       "0  220291  B0034EDLS2   AVF82BC7S0IO7                           Kbrown   \n",
       "1  225833  B001I7HJE4  A1YUL9PCJR3JTY  O. Brown \"Ms. O. Khannah-Brown\"   \n",
       "2  350901  B000LKTB90  A1BBPP1EC75JX4           Johan Bollen \"gekhond\"   \n",
       "3  299801  B001HXJPS2   A5QSI9MNS8NMS                        M. Esaili   \n",
       "4   48472  B006H34CUS  A20IBAIRSNBEAQ                          Chelsea   \n",
       "\n",
       "   HelpfulnessNumerator  HelpfulnessDenominator  Score        Time  \\\n",
       "0                     0                       0      5  1332806400   \n",
       "1                     1                       1      5  1190160000   \n",
       "2                     0                       0      5  1285977600   \n",
       "3                     0                       0      5  1338163200   \n",
       "4                     0                       0      5  1343606400   \n",
       "\n",
       "                                             Summary  \\\n",
       "0                                          Very Good   \n",
       "1  Organic, Kosher, Tasty Assortment of Premium T...   \n",
       "2  excellent gluten-free spaghetti: great taste, ...   \n",
       "3                                     Lindt is Lindt   \n",
       "4                                           YUM!!!!!   \n",
       "\n",
       "                                                Text  \\\n",
       "0  I received this product early from the seller!...   \n",
       "1  *****<br />Numi's Collection Assortment Melang...   \n",
       "2  I was very careful not to overcook this pasta,...   \n",
       "3  Buying this multi-pack I was misled by the pic...   \n",
       "4  These bars are so good! I loved them warmed up...   \n",
       "\n",
       "                                        summary_text      Type  \\\n",
       "0  Very Good I received this product early from t...  Positive   \n",
       "1  Organic, Kosher, Tasty Assortment of Premium T...  Positive   \n",
       "2  excellent gluten-free spaghetti: great taste, ...  Positive   \n",
       "3  Lindt is Lindt Buying this multi-pack I was mi...  Positive   \n",
       "4  YUM!!!!! These bars are so good! I loved them ...  Positive   \n",
       "\n",
       "   Helpfulness Ratio  \n",
       "0                NaN  \n",
       "1                1.0  \n",
       "2                NaN  \n",
       "3                NaN  \n",
       "4                NaN  "
      ]
     },
     "execution_count": 72,
     "metadata": {},
     "output_type": "execute_result"
    }
   ],
   "source": [
    "# Inspecting dataset\n",
    "train.head()"
   ]
  },
  {
   "cell_type": "code",
   "execution_count": 73,
   "metadata": {},
   "outputs": [
    {
     "data": {
      "text/plain": [
       "Text(0.5, 1.0, 'Top 10 helpfulness ratios based on count of reviews')"
      ]
     },
     "execution_count": 73,
     "metadata": {},
     "output_type": "execute_result"
    },
    {
     "data": {
      "image/png": "[encoded data removed]",
      "text/plain": [
       "<Figure size 432x288 with 1 Axes>"
      ]
     },
     "metadata": {
      "needs_background": "light"
     },
     "output_type": "display_data"
    }
   ],
   "source": [
    "# Plotting the top 10 ratios based on the amount of reviews\n",
    "train[\"Helpfulness Ratio\"].value_counts().nlargest(10).plot(kind=\"bar\")\n",
    "plt.xlabel(\"Helpfulness Ratio\")\n",
    "plt.ylabel(\"No of reviews\")\n",
    "plt.title(\"Top 10 helpfulness ratios based on count of reviews\")"
   ]
  },
  {
   "cell_type": "code",
   "execution_count": 74,
   "metadata": {},
   "outputs": [],
   "source": [
    "# Adding a new column called type of review based on helpfulness ratio\n",
    "train['Type of Review'] = np.where(train.loc[:,'Helpfulness Ratio'] > 0.6, \"Top review\", np.where((train.loc[:,'Helpfulness Ratio'] > 0.4) & (train.loc[:,'Helpfulness Ratio'] <= 0.6), \"Average Review\", np.where(train.loc[:,'Helpfulness Ratio'] <=  0.4, \"Bad review\",\"x\")))"
   ]
  },
  {
   "cell_type": "code",
   "execution_count": 75,
   "metadata": {},
   "outputs": [
    {
     "data": {
      "text/html": [
       "<div>\n",
       "<style scoped>\n",
       "    .dataframe tbody tr th:only-of-type {\n",
       "        vertical-align: middle;\n",
       "    }\n",
       "\n",
       "    .dataframe tbody tr th {\n",
       "        vertical-align: top;\n",
       "    }\n",
       "\n",
       "    .dataframe thead th {\n",
       "        text-align: right;\n",
       "    }\n",
       "</style>\n",
       "<table border=\"1\" class=\"dataframe\">\n",
       "  <thead>\n",
       "    <tr style=\"text-align: right;\">\n",
       "      <th></th>\n",
       "      <th>Id</th>\n",
       "      <th>ProductId</th>\n",
       "      <th>UserId</th>\n",
       "      <th>ProfileName</th>\n",
       "      <th>HelpfulnessNumerator</th>\n",
       "      <th>HelpfulnessDenominator</th>\n",
       "      <th>Score</th>\n",
       "      <th>Time</th>\n",
       "      <th>Summary</th>\n",
       "      <th>Text</th>\n",
       "      <th>summary_text</th>\n",
       "      <th>Type</th>\n",
       "      <th>Helpfulness Ratio</th>\n",
       "      <th>Type of Review</th>\n",
       "    </tr>\n",
       "  </thead>\n",
       "  <tbody>\n",
       "    <tr>\n",
       "      <th>0</th>\n",
       "      <td>220291</td>\n",
       "      <td>B0034EDLS2</td>\n",
       "      <td>AVF82BC7S0IO7</td>\n",
       "      <td>Kbrown</td>\n",
       "      <td>0</td>\n",
       "      <td>0</td>\n",
       "      <td>5</td>\n",
       "      <td>1332806400</td>\n",
       "      <td>Very Good</td>\n",
       "      <td>I received this product early from the seller!...</td>\n",
       "      <td>Very Good I received this product early from t...</td>\n",
       "      <td>Positive</td>\n",
       "      <td>NaN</td>\n",
       "      <td>x</td>\n",
       "    </tr>\n",
       "    <tr>\n",
       "      <th>1</th>\n",
       "      <td>225833</td>\n",
       "      <td>B001I7HJE4</td>\n",
       "      <td>A1YUL9PCJR3JTY</td>\n",
       "      <td>O. Brown \"Ms. O. Khannah-Brown\"</td>\n",
       "      <td>1</td>\n",
       "      <td>1</td>\n",
       "      <td>5</td>\n",
       "      <td>1190160000</td>\n",
       "      <td>Organic, Kosher, Tasty Assortment of Premium T...</td>\n",
       "      <td>*****&lt;br /&gt;Numi's Collection Assortment Melang...</td>\n",
       "      <td>Organic, Kosher, Tasty Assortment of Premium T...</td>\n",
       "      <td>Positive</td>\n",
       "      <td>1.0</td>\n",
       "      <td>Top review</td>\n",
       "    </tr>\n",
       "    <tr>\n",
       "      <th>2</th>\n",
       "      <td>350901</td>\n",
       "      <td>B000LKTB90</td>\n",
       "      <td>A1BBPP1EC75JX4</td>\n",
       "      <td>Johan Bollen \"gekhond\"</td>\n",
       "      <td>0</td>\n",
       "      <td>0</td>\n",
       "      <td>5</td>\n",
       "      <td>1285977600</td>\n",
       "      <td>excellent gluten-free spaghetti: great taste, ...</td>\n",
       "      <td>I was very careful not to overcook this pasta,...</td>\n",
       "      <td>excellent gluten-free spaghetti: great taste, ...</td>\n",
       "      <td>Positive</td>\n",
       "      <td>NaN</td>\n",
       "      <td>x</td>\n",
       "    </tr>\n",
       "    <tr>\n",
       "      <th>3</th>\n",
       "      <td>299801</td>\n",
       "      <td>B001HXJPS2</td>\n",
       "      <td>A5QSI9MNS8NMS</td>\n",
       "      <td>M. Esaili</td>\n",
       "      <td>0</td>\n",
       "      <td>0</td>\n",
       "      <td>5</td>\n",
       "      <td>1338163200</td>\n",
       "      <td>Lindt is Lindt</td>\n",
       "      <td>Buying this multi-pack I was misled by the pic...</td>\n",
       "      <td>Lindt is Lindt Buying this multi-pack I was mi...</td>\n",
       "      <td>Positive</td>\n",
       "      <td>NaN</td>\n",
       "      <td>x</td>\n",
       "    </tr>\n",
       "    <tr>\n",
       "      <th>4</th>\n",
       "      <td>48472</td>\n",
       "      <td>B006H34CUS</td>\n",
       "      <td>A20IBAIRSNBEAQ</td>\n",
       "      <td>Chelsea</td>\n",
       "      <td>0</td>\n",
       "      <td>0</td>\n",
       "      <td>5</td>\n",
       "      <td>1343606400</td>\n",
       "      <td>YUM!!!!!</td>\n",
       "      <td>These bars are so good! I loved them warmed up...</td>\n",
       "      <td>YUM!!!!! These bars are so good! I loved them ...</td>\n",
       "      <td>Positive</td>\n",
       "      <td>NaN</td>\n",
       "      <td>x</td>\n",
       "    </tr>\n",
       "  </tbody>\n",
       "</table>\n",
       "</div>"
      ],
      "text/plain": [
       "       Id   ProductId          UserId                      ProfileName  \\\n",
       "0  220291  B0034EDLS2   AVF82BC7S0IO7                           Kbrown   \n",
       "1  225833  B001I7HJE4  A1YUL9PCJR3JTY  O. Brown \"Ms. O. Khannah-Brown\"   \n",
       "2  350901  B000LKTB90  A1BBPP1EC75JX4           Johan Bollen \"gekhond\"   \n",
       "3  299801  B001HXJPS2   A5QSI9MNS8NMS                        M. Esaili   \n",
       "4   48472  B006H34CUS  A20IBAIRSNBEAQ                          Chelsea   \n",
       "\n",
       "   HelpfulnessNumerator  HelpfulnessDenominator  Score        Time  \\\n",
       "0                     0                       0      5  1332806400   \n",
       "1                     1                       1      5  1190160000   \n",
       "2                     0                       0      5  1285977600   \n",
       "3                     0                       0      5  1338163200   \n",
       "4                     0                       0      5  1343606400   \n",
       "\n",
       "                                             Summary  \\\n",
       "0                                          Very Good   \n",
       "1  Organic, Kosher, Tasty Assortment of Premium T...   \n",
       "2  excellent gluten-free spaghetti: great taste, ...   \n",
       "3                                     Lindt is Lindt   \n",
       "4                                           YUM!!!!!   \n",
       "\n",
       "                                                Text  \\\n",
       "0  I received this product early from the seller!...   \n",
       "1  *****<br />Numi's Collection Assortment Melang...   \n",
       "2  I was very careful not to overcook this pasta,...   \n",
       "3  Buying this multi-pack I was misled by the pic...   \n",
       "4  These bars are so good! I loved them warmed up...   \n",
       "\n",
       "                                        summary_text      Type  \\\n",
       "0  Very Good I received this product early from t...  Positive   \n",
       "1  Organic, Kosher, Tasty Assortment of Premium T...  Positive   \n",
       "2  excellent gluten-free spaghetti: great taste, ...  Positive   \n",
       "3  Lindt is Lindt Buying this multi-pack I was mi...  Positive   \n",
       "4  YUM!!!!! These bars are so good! I loved them ...  Positive   \n",
       "\n",
       "   Helpfulness Ratio Type of Review  \n",
       "0                NaN              x  \n",
       "1                1.0     Top review  \n",
       "2                NaN              x  \n",
       "3                NaN              x  \n",
       "4                NaN              x  "
      ]
     },
     "execution_count": 75,
     "metadata": {},
     "output_type": "execute_result"
    }
   ],
   "source": [
    "# Inspecting dataset\n",
    "train.head()"
   ]
  },
  {
   "cell_type": "code",
   "execution_count": 78,
   "metadata": {
    "scrolled": true
   },
   "outputs": [
    {
     "data": {
      "text/plain": [
       "x                 144946\n",
       "Top review        123922\n",
       "Bad review         25539\n",
       "Average Review     14071\n",
       "Name: Type of Review, dtype: int64"
      ]
     },
     "execution_count": 78,
     "metadata": {},
     "output_type": "execute_result"
    }
   ],
   "source": [
    "# Counting the totals of type of review\n",
    "train[\"Type of Review\"].value_counts()"
   ]
  },
  {
   "cell_type": "code",
   "execution_count": 79,
   "metadata": {},
   "outputs": [
    {
     "data": {
      "text/plain": [
       "Text(0.5, 1.0, 'Plot of type of reviews based on no of reviews')"
      ]
     },
     "execution_count": 79,
     "metadata": {},
     "output_type": "execute_result"
    },
    {
     "data": {
      "image/png": "[encoded data removed]",
      "text/plain": [
       "<Figure size 432x288 with 1 Axes>"
      ]
     },
     "metadata": {
      "needs_background": "light"
     },
     "output_type": "display_data"
    }
   ],
   "source": [
    "# Plotting the type of reviews\n",
    "type_of_review = train['Type of Review'].value_counts()\n",
    "type_of_review.drop(labels=['x'],axis=0, inplace=True)\n",
    "type_of_review.plot(kind='barh')\n",
    "plt.ylabel(\"Type of review\")\n",
    "plt.xlabel(\"No of reviews\")\n",
    "plt.title(\"Plot of type of reviews based on no of reviews\")"
   ]
  },
  {
   "cell_type": "markdown",
   "metadata": {},
   "source": [
    "# Step 2"
   ]
  },
  {
   "cell_type": "code",
   "execution_count": 80,
   "metadata": {},
   "outputs": [],
   "source": [
    "# Copying training dataframe to new variable\n",
    "reviews = train.copy()"
   ]
  },
  {
   "cell_type": "code",
   "execution_count": 81,
   "metadata": {},
   "outputs": [
    {
     "data": {
      "text/plain": [
       "'Very Good I received this product early from the seller! They are a very tastey & a Great mid-day snack. I have shared them with my Glutten Free Friends & they will be ordering this product & more very soon.'"
      ]
     },
     "execution_count": 81,
     "metadata": {},
     "output_type": "execute_result"
    }
   ],
   "source": [
    "# Verifying if dataframe is copied by viewing first entry in the summary text\n",
    "reviews['summary_text'][0]"
   ]
  },
  {
   "cell_type": "markdown",
   "metadata": {},
   "source": [
    "# Lower Case"
   ]
  },
  {
   "cell_type": "code",
   "execution_count": 83,
   "metadata": {},
   "outputs": [],
   "source": [
    "# Applying lower case function to each word in summary text\n",
    "reviews['summary_text'] = reviews['summary_text'].apply(lambda x: \" \".join(x.lower() for x in x.split()))"
   ]
  },
  {
   "cell_type": "code",
   "execution_count": 84,
   "metadata": {},
   "outputs": [
    {
     "data": {
      "text/plain": [
       "'organic, kosher, tasty assortment of premium teas & teasans *****<br />numi\\'s collection assortment melange includes:<br />5 herbal teas (caffeine-free, also called \"teasans\"):<br />* dry desert lime: lime herbal teasan<br />* fields of gold: lemongrass herbal teasan<br />* red mellow bush: rooibos herbal teasan<br />* bushmen\\'s brew: honeybush herbal teasan<br />* simply mint: moroccan mint<br /><br />2 green teas (lower in caffeine):<br />* temple of heaven: gunpowder green tea<br />* monkey king: jasmine green tea<br /><br />2 black teas (contain caffeine):<br />* chinese breakfast: yunnan black tea<br />* smoky tarry: lapsang souchong black tea<br /><br />this is a total of nine different teas, two tea bags of each one in each box. numi teas are known for their high-quality, organic and kosher ingredients, and in my opinion, are some of the tastiest and best teas i have ever tried. they do not include artificial ingredients or flavorings.<br /><br />on the box, the manufacturer writes: \"from mist-covered mountains to sun-drenched deserts to fertile fields, we proudly bring you our tea palette. the flavors range from smooth earthiness, and light floral scents, to refreshingly sweet and sour notes. what they all share is the recollection of how some ancient one tamed fire and water to coexist harmoniously, and steeped in them the gifts of nature. since that distant past, people have soothed, roused, healed, explored and celebrated with these wonderful infusions. we encourage you to do the same with numi\\'s finest.\"<br /><br />the price is perfect, a big savings over single boxes. if you like numi teas and want to sample a wonderful assortment, get it---you won\\'t be sorry. there may be some you like and others you don\\'t, but sampling them will be a delightful experience. if you are new to numi this is an excellent way to sample their high-quality teas. i do not think you could find a better source of premium tea than numi.<br /><br />highly recommended.<br />*****'"
      ]
     },
     "execution_count": 84,
     "metadata": {},
     "output_type": "execute_result"
    }
   ],
   "source": [
    "# Viewing first 5 summary texts after converting to lower case\n",
    "reviews['summary_text'][1]"
   ]
  },
  {
   "cell_type": "markdown",
   "metadata": {},
   "source": [
    "# Punctuation Removal"
   ]
  },
  {
   "cell_type": "code",
   "execution_count": 85,
   "metadata": {},
   "outputs": [],
   "source": [
    "# Copying training dataframe to new variable\n",
    "reviews = train.copy()"
   ]
  },
  {
   "cell_type": "code",
   "execution_count": 86,
   "metadata": {},
   "outputs": [
    {
     "data": {
      "text/html": [
       "<div>\n",
       "<style scoped>\n",
       "    .dataframe tbody tr th:only-of-type {\n",
       "        vertical-align: middle;\n",
       "    }\n",
       "\n",
       "    .dataframe tbody tr th {\n",
       "        vertical-align: top;\n",
       "    }\n",
       "\n",
       "    .dataframe thead th {\n",
       "        text-align: right;\n",
       "    }\n",
       "</style>\n",
       "<table border=\"1\" class=\"dataframe\">\n",
       "  <thead>\n",
       "    <tr style=\"text-align: right;\">\n",
       "      <th></th>\n",
       "      <th>Id</th>\n",
       "      <th>ProductId</th>\n",
       "      <th>UserId</th>\n",
       "      <th>ProfileName</th>\n",
       "      <th>HelpfulnessNumerator</th>\n",
       "      <th>HelpfulnessDenominator</th>\n",
       "      <th>Score</th>\n",
       "      <th>Time</th>\n",
       "      <th>Summary</th>\n",
       "      <th>Text</th>\n",
       "      <th>summary_text</th>\n",
       "      <th>Type</th>\n",
       "      <th>Helpfulness Ratio</th>\n",
       "      <th>Type of Review</th>\n",
       "    </tr>\n",
       "  </thead>\n",
       "  <tbody>\n",
       "    <tr>\n",
       "      <th>0</th>\n",
       "      <td>220291</td>\n",
       "      <td>B0034EDLS2</td>\n",
       "      <td>AVF82BC7S0IO7</td>\n",
       "      <td>Kbrown</td>\n",
       "      <td>0</td>\n",
       "      <td>0</td>\n",
       "      <td>5</td>\n",
       "      <td>1332806400</td>\n",
       "      <td>Very Good</td>\n",
       "      <td>I received this product early from the seller!...</td>\n",
       "      <td>Very Good I received this product early from t...</td>\n",
       "      <td>Positive</td>\n",
       "      <td>NaN</td>\n",
       "      <td>x</td>\n",
       "    </tr>\n",
       "    <tr>\n",
       "      <th>1</th>\n",
       "      <td>225833</td>\n",
       "      <td>B001I7HJE4</td>\n",
       "      <td>A1YUL9PCJR3JTY</td>\n",
       "      <td>O. Brown \"Ms. O. Khannah-Brown\"</td>\n",
       "      <td>1</td>\n",
       "      <td>1</td>\n",
       "      <td>5</td>\n",
       "      <td>1190160000</td>\n",
       "      <td>Organic, Kosher, Tasty Assortment of Premium T...</td>\n",
       "      <td>*****&lt;br /&gt;Numi's Collection Assortment Melang...</td>\n",
       "      <td>Organic, Kosher, Tasty Assortment of Premium T...</td>\n",
       "      <td>Positive</td>\n",
       "      <td>1.0</td>\n",
       "      <td>Top review</td>\n",
       "    </tr>\n",
       "    <tr>\n",
       "      <th>2</th>\n",
       "      <td>350901</td>\n",
       "      <td>B000LKTB90</td>\n",
       "      <td>A1BBPP1EC75JX4</td>\n",
       "      <td>Johan Bollen \"gekhond\"</td>\n",
       "      <td>0</td>\n",
       "      <td>0</td>\n",
       "      <td>5</td>\n",
       "      <td>1285977600</td>\n",
       "      <td>excellent gluten-free spaghetti: great taste, ...</td>\n",
       "      <td>I was very careful not to overcook this pasta,...</td>\n",
       "      <td>excellent gluten-free spaghetti: great taste, ...</td>\n",
       "      <td>Positive</td>\n",
       "      <td>NaN</td>\n",
       "      <td>x</td>\n",
       "    </tr>\n",
       "    <tr>\n",
       "      <th>3</th>\n",
       "      <td>299801</td>\n",
       "      <td>B001HXJPS2</td>\n",
       "      <td>A5QSI9MNS8NMS</td>\n",
       "      <td>M. Esaili</td>\n",
       "      <td>0</td>\n",
       "      <td>0</td>\n",
       "      <td>5</td>\n",
       "      <td>1338163200</td>\n",
       "      <td>Lindt is Lindt</td>\n",
       "      <td>Buying this multi-pack I was misled by the pic...</td>\n",
       "      <td>Lindt is Lindt Buying this multi-pack I was mi...</td>\n",
       "      <td>Positive</td>\n",
       "      <td>NaN</td>\n",
       "      <td>x</td>\n",
       "    </tr>\n",
       "    <tr>\n",
       "      <th>4</th>\n",
       "      <td>48472</td>\n",
       "      <td>B006H34CUS</td>\n",
       "      <td>A20IBAIRSNBEAQ</td>\n",
       "      <td>Chelsea</td>\n",
       "      <td>0</td>\n",
       "      <td>0</td>\n",
       "      <td>5</td>\n",
       "      <td>1343606400</td>\n",
       "      <td>YUM!!!!!</td>\n",
       "      <td>These bars are so good! I loved them warmed up...</td>\n",
       "      <td>YUM!!!!! These bars are so good! I loved them ...</td>\n",
       "      <td>Positive</td>\n",
       "      <td>NaN</td>\n",
       "      <td>x</td>\n",
       "    </tr>\n",
       "  </tbody>\n",
       "</table>\n",
       "</div>"
      ],
      "text/plain": [
       "       Id   ProductId          UserId                      ProfileName  \\\n",
       "0  220291  B0034EDLS2   AVF82BC7S0IO7                           Kbrown   \n",
       "1  225833  B001I7HJE4  A1YUL9PCJR3JTY  O. Brown \"Ms. O. Khannah-Brown\"   \n",
       "2  350901  B000LKTB90  A1BBPP1EC75JX4           Johan Bollen \"gekhond\"   \n",
       "3  299801  B001HXJPS2   A5QSI9MNS8NMS                        M. Esaili   \n",
       "4   48472  B006H34CUS  A20IBAIRSNBEAQ                          Chelsea   \n",
       "\n",
       "   HelpfulnessNumerator  HelpfulnessDenominator  Score        Time  \\\n",
       "0                     0                       0      5  1332806400   \n",
       "1                     1                       1      5  1190160000   \n",
       "2                     0                       0      5  1285977600   \n",
       "3                     0                       0      5  1338163200   \n",
       "4                     0                       0      5  1343606400   \n",
       "\n",
       "                                             Summary  \\\n",
       "0                                          Very Good   \n",
       "1  Organic, Kosher, Tasty Assortment of Premium T...   \n",
       "2  excellent gluten-free spaghetti: great taste, ...   \n",
       "3                                     Lindt is Lindt   \n",
       "4                                           YUM!!!!!   \n",
       "\n",
       "                                                Text  \\\n",
       "0  I received this product early from the seller!...   \n",
       "1  *****<br />Numi's Collection Assortment Melang...   \n",
       "2  I was very careful not to overcook this pasta,...   \n",
       "3  Buying this multi-pack I was misled by the pic...   \n",
       "4  These bars are so good! I loved them warmed up...   \n",
       "\n",
       "                                        summary_text      Type  \\\n",
       "0  Very Good I received this product early from t...  Positive   \n",
       "1  Organic, Kosher, Tasty Assortment of Premium T...  Positive   \n",
       "2  excellent gluten-free spaghetti: great taste, ...  Positive   \n",
       "3  Lindt is Lindt Buying this multi-pack I was mi...  Positive   \n",
       "4  YUM!!!!! These bars are so good! I loved them ...  Positive   \n",
       "\n",
       "   Helpfulness Ratio Type of Review  \n",
       "0                NaN              x  \n",
       "1                1.0     Top review  \n",
       "2                NaN              x  \n",
       "3                NaN              x  \n",
       "4                NaN              x  "
      ]
     },
     "execution_count": 86,
     "metadata": {},
     "output_type": "execute_result"
    }
   ],
   "source": [
    "# Verifying if dataframe is copied by viewing first 5 entries\n",
    "reviews.head()"
   ]
  },
  {
   "cell_type": "code",
   "execution_count": 87,
   "metadata": {},
   "outputs": [],
   "source": [
    "# Removing punctuations\n",
    "\n",
    "reviews['summary_text'] = reviews['summary_text'].apply(lambda x: (x.translate(str.maketrans('', '', string.punctuation))))\n"
   ]
  },
  {
   "cell_type": "code",
   "execution_count": 88,
   "metadata": {},
   "outputs": [
    {
     "data": {
      "text/plain": [
       "'Organic Kosher Tasty Assortment of Premium Teas  Teasans br Numis Collection Assortment Melange includesbr 5 Herbal Teas caffeinefree also called teasansbr  Dry Desert Lime Lime Herbal Teasanbr  Fields of Gold Lemongrass Herbal Teasanbr  Red Mellow Bush Rooibos Herbal Teasanbr  Bushmens Brew Honeybush Herbal Teasanbr  Simply Mint Moroccan Mintbr br 2 Green Teas lower in caffeinebr  Temple of Heaven Gunpowder Green Teabr  Monkey King Jasmine Green Teabr br 2 Black Teas contain caffeinebr  Chinese Breakfast Yunnan Black Teabr  Smoky Tarry Lapsang Souchong Black Teabr br This is a total of nine different teas two tea bags of each one in each box Numi teas are known for their highquality organic and kosher ingredients and in my opinion are some of the tastiest and best teas I have ever tried They do not include artificial ingredients or flavoringsbr br On the box the manufacturer writes From mistcovered mountains to sundrenched deserts to fertile fields we proudly bring you our tea palette The flavors range from smooth earthiness and light floral scents to refreshingly sweet and sour notes What they all share is the recollection of how some Ancient One tamed fire and water to coexist harmoniously and steeped in them the gifts of Nature Since that distant past people have soothed roused healed explored and celebrated with these wonderful infusions We encourage you to do the same with Numis finestbr br The price is perfect a big savings over single boxes If you like Numi teas and want to sample a wonderful assortment get ityou wont be sorry There may be some you like and others you dont but sampling them will be a delightful experience If you are new to Numi this is an excellent way to sample their highquality teas I do not think you could find a better source of premium tea than Numibr br Highly recommendedbr '"
      ]
     },
     "execution_count": 88,
     "metadata": {},
     "output_type": "execute_result"
    }
   ],
   "source": [
    "# Viewing first 5 entries of summary text after removing punctuation\n",
    "reviews['summary_text'][1]"
   ]
  },
  {
   "cell_type": "markdown",
   "metadata": {},
   "source": [
    "# Removing HTML tags"
   ]
  },
  {
   "cell_type": "code",
   "execution_count": 89,
   "metadata": {},
   "outputs": [],
   "source": [
    "# Copying training dataframe to new variable\n",
    "reviews = train.copy()"
   ]
  },
  {
   "cell_type": "code",
   "execution_count": 90,
   "metadata": {},
   "outputs": [],
   "source": [
    "# Removing br tags from each entry in summary text\n",
    "reviews['summary_text'] = reviews['summary_text'].str.replace('<br />','')"
   ]
  },
  {
   "cell_type": "markdown",
   "metadata": {},
   "source": [
    "# Stemming"
   ]
  },
  {
   "cell_type": "code",
   "execution_count": 91,
   "metadata": {},
   "outputs": [],
   "source": [
    "# Copying training dataframe to new variable\n",
    "reviews = train.copy()"
   ]
  },
  {
   "cell_type": "code",
   "execution_count": 92,
   "metadata": {},
   "outputs": [],
   "source": [
    "# Setting the stemmer language\n",
    "stemmer = Stemmer.Stemmer('english')"
   ]
  },
  {
   "cell_type": "code",
   "execution_count": 93,
   "metadata": {},
   "outputs": [
    {
     "name": "stdout",
     "output_type": "stream",
     "text": [
      "complain\n"
     ]
    }
   ],
   "source": [
    "# Using stemmer to stem a sample word\n",
    "print(stemmer.stemWord('complaining'))"
   ]
  },
  {
   "cell_type": "code",
   "execution_count": 94,
   "metadata": {},
   "outputs": [],
   "source": [
    "# Applying stemming on the summary text column\n",
    "stemmer = reviews['summary_text'].apply(lambda x: \" \".join([stemmer.stemWord(word) for word in x.split()]))"
   ]
  },
  {
   "cell_type": "code",
   "execution_count": 95,
   "metadata": {},
   "outputs": [
    {
     "data": {
      "text/plain": [
       "'Veri Good I receiv this product earli from the seller! They are a veri tastey & a Great mid-day snack. I have share them with my Glutten Free Friend & they will be order this product & more veri soon.'"
      ]
     },
     "execution_count": 95,
     "metadata": {},
     "output_type": "execute_result"
    }
   ],
   "source": [
    "# Viewing the first entry after stemming\n",
    "stemmer[0]"
   ]
  },
  {
   "cell_type": "markdown",
   "metadata": {},
   "source": [
    "# Lemmatization"
   ]
  },
  {
   "cell_type": "code",
   "execution_count": 96,
   "metadata": {},
   "outputs": [],
   "source": [
    "# Copying training dataframe to new variable\n",
    "reviews = train.copy()"
   ]
  },
  {
   "cell_type": "code",
   "execution_count": 97,
   "metadata": {},
   "outputs": [
    {
     "data": {
      "text/plain": [
       "''"
      ]
     },
     "execution_count": 97,
     "metadata": {},
     "output_type": "execute_result"
    }
   ],
   "source": [
    "# Performing lemmatization on blank text. This helps in speeding up the lemmatization process\n",
    "Word(\"\").lemmatize()"
   ]
  },
  {
   "cell_type": "code",
   "execution_count": 98,
   "metadata": {},
   "outputs": [],
   "source": [
    "# Applying lemmatization on the summary text column\n",
    "lemma = reviews['summary_text'].apply(lambda x: \" \".join([Word(word).lemmatize() for word in x.split()]))"
   ]
  },
  {
   "cell_type": "code",
   "execution_count": 99,
   "metadata": {},
   "outputs": [
    {
     "data": {
      "text/plain": [
       "'Organic, Kosher, Tasty Assortment of Premium Teas & Teasans *****<br />Numi\\'s Collection Assortment Melange includes:<br />5 Herbal Teas (caffeine-free, also called \"teasans\"):<br />* Dry Desert Lime: Lime Herbal Teasan<br />* Fields of Gold: Lemongrass Herbal Teasan<br />* Red Mellow Bush: Rooibos Herbal Teasan<br />* Bushmen\\'s Brew: Honeybush Herbal Teasan<br />* Simply Mint: Moroccan Mint<br /><br />2 Green Teas (lower in caffeine):<br />* Temple of Heaven: Gunpowder Green Tea<br />* Monkey King: Jasmine Green Tea<br /><br />2 Black Teas (contain caffeine):<br />* Chinese Breakfast: Yunnan Black Tea<br />* Smoky Tarry: Lapsang Souchong Black Tea<br /><br />This is a total of nine different teas, two tea bag of each one in each box. Numi tea are known for their high-quality, organic and kosher ingredients, and in my opinion, are some of the tastiest and best tea I have ever tried. They do not include artificial ingredient or flavorings.<br /><br />On the box, the manufacturer writes: \"From mist-covered mountain to sun-drenched desert to fertile fields, we proudly bring you our tea palette. The flavor range from smooth earthiness, and light floral scents, to refreshingly sweet and sour notes. What they all share is the recollection of how some Ancient One tamed fire and water to coexist harmoniously, and steeped in them the gift of Nature. Since that distant past, people have soothed, roused, healed, explored and celebrated with these wonderful infusions. We encourage you to do the same with Numi\\'s finest.\"<br /><br />The price is perfect, a big saving over single boxes. If you like Numi tea and want to sample a wonderful assortment, get it---you won\\'t be sorry. There may be some you like and others you don\\'t, but sampling them will be a delightful experience. If you are new to Numi this is an excellent way to sample their high-quality teas. I do not think you could find a better source of premium tea than Numi.<br /><br />Highly recommended.<br />*****'"
      ]
     },
     "execution_count": 99,
     "metadata": {},
     "output_type": "execute_result"
    }
   ],
   "source": [
    "# Viewing the second entry after lemmatization\n",
    "lemma[1]"
   ]
  },
  {
   "cell_type": "markdown",
   "metadata": {},
   "source": [
    "# Spelling Correction"
   ]
  },
  {
   "cell_type": "code",
   "execution_count": 100,
   "metadata": {},
   "outputs": [],
   "source": [
    "# Copying training dataframe to new variable\n",
    "reviews = train.copy()"
   ]
  },
  {
   "cell_type": "code",
   "execution_count": 101,
   "metadata": {},
   "outputs": [],
   "source": [
    "# Applying spelling correction on the first 20 entries of summary text column\n",
    "\n",
    "spell_corr = reviews['summary_text'][:20].apply(lambda x: str(TextBlob(x).correct()))"
   ]
  },
  {
   "cell_type": "code",
   "execution_count": 102,
   "metadata": {},
   "outputs": [
    {
     "data": {
      "text/plain": [
       "'Organic, Other, Nasty Assortment of Premium Seas & Peasants *****<br />Sum\\'s Collection Assortment Melange includes:<br />5 Verbal Seas (caffein-free, also called \"peasants\"):<br />* Cry Desert Time: Time Verbal Reason<br />* Fields of Old: Lemongrass Verbal Reason<br />* Red Fellow Rush: Rooibos Verbal Reason<br />* Bushmen\\'s Grew: Honeybush Verbal Reason<br />* Simply Lint: Moroccan Lint<br /><br />2 Green Seas (lower in caffein):<br />* Temple of Heaven: Gunpowder Green Tea<br />* Monkey King: Famine Green Tea<br /><br />2 Black Seas (contain caffein):<br />* Chinese Breakfast: Duncan Black Tea<br />* Smoke Carry: Lapsing Touching Black Tea<br /><br />His is a total of nine different tears, two tea bags of each one in each box. Sum tears are known for their high-quality, organic and kocher ingredient, and in my opinion, are some of the tastes and best tears I have ever tried. They do not include artificial ingredient or favoring.<br /><br />In the box, the manufacturer writes: \"From mist-covered mountains to sun-drenched deserts to fertile fields, we proudly bring you our tea palate. The favors range from smooth earthiness, and light flora scent, to refreshingly sweet and sour notes. That they all share is the recollection of how some Ancient One tamed fire and water to coexist harmonious, and stepped in them the gifts of Nature. Since that distant past, people have soothed, roused, healed, explored and celebrated with these wonderful infusions. He encourage you to do the same with Sum\\'s finest.\"<br /><br />The price is perfect, a big savings over single boxes. Of you like Sum tears and want to sample a wonderful assortment, get it---you won\\'t be sorry. There may be some you like and others you don\\'t, but smiling them will be a delightful experience. Of you are new to Sum this is an excellent way to sample their high-quality tears. I do not think you could find a better source of premium tea than Sum.<br /><br />Highly recommended.<br />*****'"
      ]
     },
     "execution_count": 102,
     "metadata": {},
     "output_type": "execute_result"
    }
   ],
   "source": [
    "# Viewing first entry after performing spelling correction\n",
    "spell_corr[1]"
   ]
  },
  {
   "cell_type": "markdown",
   "metadata": {},
   "source": [
    "# Step 3 - Feature Representation"
   ]
  },
  {
   "cell_type": "markdown",
   "metadata": {},
   "source": [
    "## Count Vectorizer"
   ]
  },
  {
   "cell_type": "code",
   "execution_count": 103,
   "metadata": {},
   "outputs": [],
   "source": [
    "# Importing CountVectorizer\n",
    "from sklearn.feature_extraction.text import CountVectorizer"
   ]
  },
  {
   "cell_type": "code",
   "execution_count": 104,
   "metadata": {},
   "outputs": [],
   "source": [
    "# Initializing CountVectorizer\n",
    "vect = CountVectorizer()"
   ]
  },
  {
   "cell_type": "code",
   "execution_count": 105,
   "metadata": {},
   "outputs": [],
   "source": [
    "# Storing copy of dataset\n",
    "reviews = train.copy()"
   ]
  },
  {
   "cell_type": "code",
   "execution_count": 106,
   "metadata": {},
   "outputs": [],
   "source": [
    "# Fitting the vectorizer\n",
    "vect = CountVectorizer().fit(reviews['summary_text'])"
   ]
  },
  {
   "cell_type": "code",
   "execution_count": 107,
   "metadata": {},
   "outputs": [
    {
     "data": {
      "text/plain": [
       "111201"
      ]
     },
     "execution_count": 107,
     "metadata": {},
     "output_type": "execute_result"
    }
   ],
   "source": [
    "# Getting the length of the vocabulary\n",
    "feature_names = vect.get_feature_names()\n",
    "len(feature_names)"
   ]
  },
  {
   "cell_type": "code",
   "execution_count": 108,
   "metadata": {},
   "outputs": [],
   "source": [
    "# Transforming text into vector\n",
    "r = vect.transform(reviews['summary_text'])"
   ]
  },
  {
   "cell_type": "code",
   "execution_count": 109,
   "metadata": {},
   "outputs": [
    {
     "data": {
      "text/plain": [
       "(308478, 111201)"
      ]
     },
     "execution_count": 109,
     "metadata": {},
     "output_type": "execute_result"
    }
   ],
   "source": [
    "# Shape of the vector\n",
    "r.shape"
   ]
  },
  {
   "cell_type": "markdown",
   "metadata": {},
   "source": [
    "#  Term Frequency"
   ]
  },
  {
   "cell_type": "code",
   "execution_count": 110,
   "metadata": {},
   "outputs": [],
   "source": [
    "# Copying the dataset\n",
    "reviews = train.copy()"
   ]
  },
  {
   "cell_type": "code",
   "execution_count": 111,
   "metadata": {},
   "outputs": [],
   "source": [
    "# Removing br tags from each entry in summary text\n",
    "reviews['summary_text'] = reviews['summary_text'].str.replace('<br />','')"
   ]
  },
  {
   "cell_type": "code",
   "execution_count": 112,
   "metadata": {},
   "outputs": [],
   "source": [
    "# Removing punctuations\n",
    "exclude = set(string.punctuation)\n",
    "reviews['summary_text'] = reviews['summary_text'].apply(lambda x: (x.translate(str.maketrans('', '', string.punctuation))))"
   ]
  },
  {
   "cell_type": "code",
   "execution_count": 113,
   "metadata": {},
   "outputs": [],
   "source": [
    "# Creating term frequencies\n",
    "tf1 = (reviews['summary_text'][0:20]).apply(lambda x: pd.value_counts(x.split(\" \"))).sum(axis = 0).reset_index()\n",
    "tf1.columns = ['words','tf']"
   ]
  },
  {
   "cell_type": "code",
   "execution_count": 114,
   "metadata": {},
   "outputs": [
    {
     "data": {
      "text/html": [
       "<div>\n",
       "<style scoped>\n",
       "    .dataframe tbody tr th:only-of-type {\n",
       "        vertical-align: middle;\n",
       "    }\n",
       "\n",
       "    .dataframe tbody tr th {\n",
       "        vertical-align: top;\n",
       "    }\n",
       "\n",
       "    .dataframe thead th {\n",
       "        text-align: right;\n",
       "    }\n",
       "</style>\n",
       "<table border=\"1\" class=\"dataframe\">\n",
       "  <thead>\n",
       "    <tr style=\"text-align: right;\">\n",
       "      <th></th>\n",
       "      <th>words</th>\n",
       "      <th>tf</th>\n",
       "    </tr>\n",
       "  </thead>\n",
       "  <tbody>\n",
       "    <tr>\n",
       "      <th>0</th>\n",
       "      <td></td>\n",
       "      <td>36.0</td>\n",
       "    </tr>\n",
       "    <tr>\n",
       "      <th>1</th>\n",
       "      <td>I</td>\n",
       "      <td>52.0</td>\n",
       "    </tr>\n",
       "    <tr>\n",
       "      <th>2</th>\n",
       "      <td>a</td>\n",
       "      <td>45.0</td>\n",
       "    </tr>\n",
       "    <tr>\n",
       "      <th>3</th>\n",
       "      <td>product</td>\n",
       "      <td>11.0</td>\n",
       "    </tr>\n",
       "    <tr>\n",
       "      <th>4</th>\n",
       "      <td>this</td>\n",
       "      <td>20.0</td>\n",
       "    </tr>\n",
       "    <tr>\n",
       "      <th>...</th>\n",
       "      <td>...</td>\n",
       "      <td>...</td>\n",
       "    </tr>\n",
       "    <tr>\n",
       "      <th>696</th>\n",
       "      <td>cakeOn</td>\n",
       "      <td>1.0</td>\n",
       "    </tr>\n",
       "    <tr>\n",
       "      <th>697</th>\n",
       "      <td>since</td>\n",
       "      <td>1.0</td>\n",
       "    </tr>\n",
       "    <tr>\n",
       "      <th>698</th>\n",
       "      <td>touch</td>\n",
       "      <td>1.0</td>\n",
       "    </tr>\n",
       "    <tr>\n",
       "      <th>699</th>\n",
       "      <td>poorly</td>\n",
       "      <td>1.0</td>\n",
       "    </tr>\n",
       "    <tr>\n",
       "      <th>700</th>\n",
       "      <td>wrapped</td>\n",
       "      <td>1.0</td>\n",
       "    </tr>\n",
       "  </tbody>\n",
       "</table>\n",
       "<p>701 rows × 2 columns</p>\n",
       "</div>"
      ],
      "text/plain": [
       "       words    tf\n",
       "0             36.0\n",
       "1          I  52.0\n",
       "2          a  45.0\n",
       "3    product  11.0\n",
       "4       this  20.0\n",
       "..       ...   ...\n",
       "696   cakeOn   1.0\n",
       "697    since   1.0\n",
       "698    touch   1.0\n",
       "699   poorly   1.0\n",
       "700  wrapped   1.0\n",
       "\n",
       "[701 rows x 2 columns]"
      ]
     },
     "execution_count": 114,
     "metadata": {},
     "output_type": "execute_result"
    }
   ],
   "source": [
    "# Viewing term frequencies\n",
    "tf1"
   ]
  },
  {
   "cell_type": "markdown",
   "metadata": {},
   "source": [
    "# Inverse Document Frequency"
   ]
  },
  {
   "cell_type": "code",
   "execution_count": 115,
   "metadata": {},
   "outputs": [],
   "source": [
    "# Calculating IDF\n",
    "for i, word in enumerate(tf1['words']):\n",
    "    tf1.loc[i, 'idf'] = np.log(reviews.shape[0]/(len(reviews[reviews['summary_text'].str.contains(word)][0:20])))"
   ]
  },
  {
   "cell_type": "code",
   "execution_count": 116,
   "metadata": {},
   "outputs": [
    {
     "data": {
      "text/html": [
       "<div>\n",
       "<style scoped>\n",
       "    .dataframe tbody tr th:only-of-type {\n",
       "        vertical-align: middle;\n",
       "    }\n",
       "\n",
       "    .dataframe tbody tr th {\n",
       "        vertical-align: top;\n",
       "    }\n",
       "\n",
       "    .dataframe thead th {\n",
       "        text-align: right;\n",
       "    }\n",
       "</style>\n",
       "<table border=\"1\" class=\"dataframe\">\n",
       "  <thead>\n",
       "    <tr style=\"text-align: right;\">\n",
       "      <th></th>\n",
       "      <th>words</th>\n",
       "      <th>tf</th>\n",
       "      <th>idf</th>\n",
       "    </tr>\n",
       "  </thead>\n",
       "  <tbody>\n",
       "    <tr>\n",
       "      <th>0</th>\n",
       "      <td></td>\n",
       "      <td>36.0</td>\n",
       "      <td>9.643674</td>\n",
       "    </tr>\n",
       "    <tr>\n",
       "      <th>1</th>\n",
       "      <td>I</td>\n",
       "      <td>52.0</td>\n",
       "      <td>9.643674</td>\n",
       "    </tr>\n",
       "    <tr>\n",
       "      <th>2</th>\n",
       "      <td>a</td>\n",
       "      <td>45.0</td>\n",
       "      <td>9.643674</td>\n",
       "    </tr>\n",
       "    <tr>\n",
       "      <th>3</th>\n",
       "      <td>product</td>\n",
       "      <td>11.0</td>\n",
       "      <td>9.643674</td>\n",
       "    </tr>\n",
       "    <tr>\n",
       "      <th>4</th>\n",
       "      <td>this</td>\n",
       "      <td>20.0</td>\n",
       "      <td>9.643674</td>\n",
       "    </tr>\n",
       "    <tr>\n",
       "      <th>5</th>\n",
       "      <td>very</td>\n",
       "      <td>8.0</td>\n",
       "      <td>9.643674</td>\n",
       "    </tr>\n",
       "    <tr>\n",
       "      <th>6</th>\n",
       "      <td>Friends</td>\n",
       "      <td>1.0</td>\n",
       "      <td>9.643674</td>\n",
       "    </tr>\n",
       "    <tr>\n",
       "      <th>7</th>\n",
       "      <td>they</td>\n",
       "      <td>7.0</td>\n",
       "      <td>9.643674</td>\n",
       "    </tr>\n",
       "    <tr>\n",
       "      <th>8</th>\n",
       "      <td>from</td>\n",
       "      <td>9.0</td>\n",
       "      <td>9.643674</td>\n",
       "    </tr>\n",
       "    <tr>\n",
       "      <th>9</th>\n",
       "      <td>more</td>\n",
       "      <td>7.0</td>\n",
       "      <td>9.643674</td>\n",
       "    </tr>\n",
       "    <tr>\n",
       "      <th>10</th>\n",
       "      <td>early</td>\n",
       "      <td>1.0</td>\n",
       "      <td>9.643674</td>\n",
       "    </tr>\n",
       "    <tr>\n",
       "      <th>11</th>\n",
       "      <td>be</td>\n",
       "      <td>8.0</td>\n",
       "      <td>9.643674</td>\n",
       "    </tr>\n",
       "    <tr>\n",
       "      <th>12</th>\n",
       "      <td>Free</td>\n",
       "      <td>2.0</td>\n",
       "      <td>9.643674</td>\n",
       "    </tr>\n",
       "    <tr>\n",
       "      <th>13</th>\n",
       "      <td>Glutten</td>\n",
       "      <td>1.0</td>\n",
       "      <td>10.559964</td>\n",
       "    </tr>\n",
       "    <tr>\n",
       "      <th>14</th>\n",
       "      <td>the</td>\n",
       "      <td>47.0</td>\n",
       "      <td>9.643674</td>\n",
       "    </tr>\n",
       "    <tr>\n",
       "      <th>15</th>\n",
       "      <td>ordering</td>\n",
       "      <td>1.0</td>\n",
       "      <td>9.643674</td>\n",
       "    </tr>\n",
       "    <tr>\n",
       "      <th>16</th>\n",
       "      <td>shared</td>\n",
       "      <td>1.0</td>\n",
       "      <td>9.643674</td>\n",
       "    </tr>\n",
       "    <tr>\n",
       "      <th>17</th>\n",
       "      <td>have</td>\n",
       "      <td>11.0</td>\n",
       "      <td>9.643674</td>\n",
       "    </tr>\n",
       "    <tr>\n",
       "      <th>18</th>\n",
       "      <td>with</td>\n",
       "      <td>16.0</td>\n",
       "      <td>9.643674</td>\n",
       "    </tr>\n",
       "    <tr>\n",
       "      <th>19</th>\n",
       "      <td>Very</td>\n",
       "      <td>1.0</td>\n",
       "      <td>9.643674</td>\n",
       "    </tr>\n",
       "    <tr>\n",
       "      <th>20</th>\n",
       "      <td>seller</td>\n",
       "      <td>1.0</td>\n",
       "      <td>9.643674</td>\n",
       "    </tr>\n",
       "    <tr>\n",
       "      <th>21</th>\n",
       "      <td>them</td>\n",
       "      <td>9.0</td>\n",
       "      <td>9.643674</td>\n",
       "    </tr>\n",
       "    <tr>\n",
       "      <th>22</th>\n",
       "      <td>tastey</td>\n",
       "      <td>1.0</td>\n",
       "      <td>9.643674</td>\n",
       "    </tr>\n",
       "    <tr>\n",
       "      <th>23</th>\n",
       "      <td>soon</td>\n",
       "      <td>2.0</td>\n",
       "      <td>9.643674</td>\n",
       "    </tr>\n",
       "    <tr>\n",
       "      <th>24</th>\n",
       "      <td>snack</td>\n",
       "      <td>3.0</td>\n",
       "      <td>9.643674</td>\n",
       "    </tr>\n",
       "  </tbody>\n",
       "</table>\n",
       "</div>"
      ],
      "text/plain": [
       "       words    tf        idf\n",
       "0             36.0   9.643674\n",
       "1          I  52.0   9.643674\n",
       "2          a  45.0   9.643674\n",
       "3    product  11.0   9.643674\n",
       "4       this  20.0   9.643674\n",
       "5       very   8.0   9.643674\n",
       "6    Friends   1.0   9.643674\n",
       "7       they   7.0   9.643674\n",
       "8       from   9.0   9.643674\n",
       "9       more   7.0   9.643674\n",
       "10     early   1.0   9.643674\n",
       "11        be   8.0   9.643674\n",
       "12      Free   2.0   9.643674\n",
       "13   Glutten   1.0  10.559964\n",
       "14       the  47.0   9.643674\n",
       "15  ordering   1.0   9.643674\n",
       "16    shared   1.0   9.643674\n",
       "17      have  11.0   9.643674\n",
       "18      with  16.0   9.643674\n",
       "19      Very   1.0   9.643674\n",
       "20    seller   1.0   9.643674\n",
       "21      them   9.0   9.643674\n",
       "22    tastey   1.0   9.643674\n",
       "23      soon   2.0   9.643674\n",
       "24     snack   3.0   9.643674"
      ]
     },
     "execution_count": 116,
     "metadata": {},
     "output_type": "execute_result"
    }
   ],
   "source": [
    "# Viewing TFs and IDFs\n",
    "tf1.head(25)"
   ]
  },
  {
   "cell_type": "markdown",
   "metadata": {},
   "source": [
    "# Tf-Idf"
   ]
  },
  {
   "cell_type": "code",
   "execution_count": 117,
   "metadata": {},
   "outputs": [],
   "source": [
    "# Copying the dataset\n",
    "reviews = train.copy()"
   ]
  },
  {
   "cell_type": "code",
   "execution_count": 118,
   "metadata": {},
   "outputs": [],
   "source": [
    "# Importing TfidfVectorizer\n",
    "from sklearn.feature_extraction.text import TfidfVectorizer"
   ]
  },
  {
   "cell_type": "code",
   "execution_count": 119,
   "metadata": {},
   "outputs": [],
   "source": [
    "# Fitting vectorizer to data\n",
    "vect = TfidfVectorizer().fit(reviews['summary_text'])"
   ]
  },
  {
   "cell_type": "code",
   "execution_count": 120,
   "metadata": {},
   "outputs": [],
   "source": [
    "# Getting the number of features\n",
    "f_names = vect.get_feature_names()"
   ]
  },
  {
   "cell_type": "code",
   "execution_count": 121,
   "metadata": {},
   "outputs": [],
   "source": [
    "# Transforming text into tfidf\n",
    "tfidf = vect.transform(reviews['summary_text'])"
   ]
  },
  {
   "cell_type": "code",
   "execution_count": 122,
   "metadata": {},
   "outputs": [
    {
     "name": "stdout",
     "output_type": "stream",
     "text": [
      "  (0, 108833)\t0.0760187643108908\n",
      "  (0, 108543)\t0.10699773874804965\n",
      "  (0, 105943)\t0.288178769495125\n",
      "  (0, 99951)\t0.11374125731583948\n",
      "  (0, 99804)\t0.17525490717010495\n",
      "  (0, 99655)\t0.1000200053197534\n",
      "  (0, 99583)\t0.04664201787902215\n",
      "  (0, 98515)\t0.32353583964980387\n",
      "  (0, 92890)\t0.2111193992577402\n",
      "  (0, 92113)\t0.16016896142764445\n",
      "  (0, 89757)\t0.2639645082173464\n",
      "  (0, 89059)\t0.2229063429911829\n",
      "  (0, 82842)\t0.17509651017852967\n",
      "  (0, 79908)\t0.19461667877034516\n",
      "  (0, 72794)\t0.18944870191570193\n",
      "  (0, 68730)\t0.06873145561578209\n",
      "  (0, 67691)\t0.10603632347839224\n",
      "  (0, 65999)\t0.2721129321409709\n",
      "  (0, 50894)\t0.07707450330167723\n",
      "  (0, 48967)\t0.08660819261336163\n",
      "  (0, 48194)\t0.08561607259147803\n",
      "  (0, 47882)\t0.40282987028426903\n",
      "  (0, 45586)\t0.10330280625289066\n",
      "  (0, 45465)\t0.19708714504725378\n",
      "  (0, 45232)\t0.14492753136689945\n",
      "  :\t:\n",
      "  (19, 67859)\t0.10697544479885984\n",
      "  (19, 66543)\t0.20416170336743233\n",
      "  (19, 63097)\t0.20512755470657185\n",
      "  (19, 56615)\t0.081129393077102\n",
      "  (19, 54459)\t0.04796967929261348\n",
      "  (19, 52945)\t0.13807152304383843\n",
      "  (19, 52765)\t0.16291671857013118\n",
      "  (19, 48967)\t0.12711873427684556\n",
      "  (19, 48966)\t0.18939595991624286\n",
      "  (19, 47846)\t0.13114562451674142\n",
      "  (19, 45232)\t0.10635832357957468\n",
      "  (19, 41094)\t0.11243168522274606\n",
      "  (19, 37054)\t0.19816014304918772\n",
      "  (19, 29075)\t0.1658298415964531\n",
      "  (19, 26363)\t0.1099666356728576\n",
      "  (19, 22964)\t0.1612445739778179\n",
      "  (19, 21929)\t0.2011100142353587\n",
      "  (19, 21003)\t0.13844512136395604\n",
      "  (19, 20929)\t0.10819477377882478\n",
      "  (19, 20762)\t0.3116216240238167\n",
      "  (19, 20752)\t0.13368308612850607\n",
      "  (19, 18426)\t0.14457726460463374\n",
      "  (19, 17915)\t0.06921060485134267\n",
      "  (19, 7770)\t0.10626523804966699\n",
      "  (19, 6815)\t0.07390308536215441\n"
     ]
    }
   ],
   "source": [
    "# Viewing first 20 Tfidfs\n",
    "print(tfidf[0:20])"
   ]
  },
  {
   "cell_type": "markdown",
   "metadata": {},
   "source": [
    "# N-grams"
   ]
  },
  {
   "cell_type": "code",
   "execution_count": 123,
   "metadata": {},
   "outputs": [],
   "source": [
    "# Converting reviews into bigram\n",
    "tb = TextBlob(reviews['summary_text'][0]).ngrams(2)"
   ]
  },
  {
   "cell_type": "code",
   "execution_count": 124,
   "metadata": {},
   "outputs": [
    {
     "data": {
      "text/plain": [
       "[WordList(['Very', 'Good']),\n",
       " WordList(['Good', 'I']),\n",
       " WordList(['I', 'received']),\n",
       " WordList(['received', 'this']),\n",
       " WordList(['this', 'product']),\n",
       " WordList(['product', 'early']),\n",
       " WordList(['early', 'from']),\n",
       " WordList(['from', 'the']),\n",
       " WordList(['the', 'seller']),\n",
       " WordList(['seller', 'They']),\n",
       " WordList(['They', 'are']),\n",
       " WordList(['are', 'a']),\n",
       " WordList(['a', 'very']),\n",
       " WordList(['very', 'tastey']),\n",
       " WordList(['tastey', 'a']),\n",
       " WordList(['a', 'Great']),\n",
       " WordList(['Great', 'mid-day']),\n",
       " WordList(['mid-day', 'snack']),\n",
       " WordList(['snack', 'I']),\n",
       " WordList(['I', 'have']),\n",
       " WordList(['have', 'shared']),\n",
       " WordList(['shared', 'them']),\n",
       " WordList(['them', 'with']),\n",
       " WordList(['with', 'my']),\n",
       " WordList(['my', 'Glutten']),\n",
       " WordList(['Glutten', 'Free']),\n",
       " WordList(['Free', 'Friends']),\n",
       " WordList(['Friends', 'they']),\n",
       " WordList(['they', 'will']),\n",
       " WordList(['will', 'be']),\n",
       " WordList(['be', 'ordering']),\n",
       " WordList(['ordering', 'this']),\n",
       " WordList(['this', 'product']),\n",
       " WordList(['product', 'more']),\n",
       " WordList(['more', 'very']),\n",
       " WordList(['very', 'soon'])]"
      ]
     },
     "execution_count": 124,
     "metadata": {},
     "output_type": "execute_result"
    }
   ],
   "source": [
    "# Viewing bigrams\n",
    "tb"
   ]
  },
  {
   "cell_type": "code",
   "execution_count": 125,
   "metadata": {},
   "outputs": [],
   "source": [
    "# Converting reviews into trigram\n",
    "tb3 = TextBlob(reviews['summary_text'][0]).ngrams(3)"
   ]
  },
  {
   "cell_type": "code",
   "execution_count": 126,
   "metadata": {},
   "outputs": [
    {
     "data": {
      "text/plain": [
       "[WordList(['Very', 'Good', 'I']),\n",
       " WordList(['Good', 'I', 'received']),\n",
       " WordList(['I', 'received', 'this']),\n",
       " WordList(['received', 'this', 'product']),\n",
       " WordList(['this', 'product', 'early']),\n",
       " WordList(['product', 'early', 'from']),\n",
       " WordList(['early', 'from', 'the']),\n",
       " WordList(['from', 'the', 'seller']),\n",
       " WordList(['the', 'seller', 'They']),\n",
       " WordList(['seller', 'They', 'are']),\n",
       " WordList(['They', 'are', 'a']),\n",
       " WordList(['are', 'a', 'very']),\n",
       " WordList(['a', 'very', 'tastey']),\n",
       " WordList(['very', 'tastey', 'a']),\n",
       " WordList(['tastey', 'a', 'Great']),\n",
       " WordList(['a', 'Great', 'mid-day']),\n",
       " WordList(['Great', 'mid-day', 'snack']),\n",
       " WordList(['mid-day', 'snack', 'I']),\n",
       " WordList(['snack', 'I', 'have']),\n",
       " WordList(['I', 'have', 'shared']),\n",
       " WordList(['have', 'shared', 'them']),\n",
       " WordList(['shared', 'them', 'with']),\n",
       " WordList(['them', 'with', 'my']),\n",
       " WordList(['with', 'my', 'Glutten']),\n",
       " WordList(['my', 'Glutten', 'Free']),\n",
       " WordList(['Glutten', 'Free', 'Friends']),\n",
       " WordList(['Free', 'Friends', 'they']),\n",
       " WordList(['Friends', 'they', 'will']),\n",
       " WordList(['they', 'will', 'be']),\n",
       " WordList(['will', 'be', 'ordering']),\n",
       " WordList(['be', 'ordering', 'this']),\n",
       " WordList(['ordering', 'this', 'product']),\n",
       " WordList(['this', 'product', 'more']),\n",
       " WordList(['product', 'more', 'very']),\n",
       " WordList(['more', 'very', 'soon'])]"
      ]
     },
     "execution_count": 126,
     "metadata": {},
     "output_type": "execute_result"
    }
   ],
   "source": [
    "# Viewing trigrams\n",
    "tb3"
   ]
  },
  {
   "cell_type": "markdown",
   "metadata": {},
   "source": [
    "# Step 4 - Applying models to the data"
   ]
  },
  {
   "cell_type": "code",
   "execution_count": 127,
   "metadata": {},
   "outputs": [],
   "source": [
    "# Copying the dataset\n",
    "reviews = train.copy()\n",
    "\n",
    "# Removing the 3 star reviews\n",
    "reviews = reviews[reviews['Score']!=3]"
   ]
  },
  {
   "cell_type": "code",
   "execution_count": 129,
   "metadata": {},
   "outputs": [
    {
     "data": {
      "text/plain": [
       "285227"
      ]
     },
     "execution_count": 129,
     "metadata": {},
     "output_type": "execute_result"
    }
   ],
   "source": [
    "# Remaining reviews\n",
    "\n",
    "reviews['summary_text'].count()"
   ]
  },
  {
   "cell_type": "markdown",
   "metadata": {},
   "source": [
    "### Preprocessing"
   ]
  },
  {
   "cell_type": "code",
   "execution_count": 130,
   "metadata": {},
   "outputs": [],
   "source": [
    "# Removing br tags from each entry in summary text\n",
    "reviews['summary_text'] = reviews['summary_text'].str.replace('<br />','')"
   ]
  },
  {
   "cell_type": "code",
   "execution_count": 131,
   "metadata": {},
   "outputs": [],
   "source": [
    "# Removing punctuations\n",
    "exclude = set(string.punctuation)\n",
    "reviews['summary_text'] = reviews['summary_text'].apply(lambda x: (x.translate(str.maketrans('', '', string.punctuation))))\n"
   ]
  },
  {
   "cell_type": "code",
   "execution_count": 132,
   "metadata": {},
   "outputs": [],
   "source": [
    "# Removing stopwords\n",
    "stop = stopwords.words('english')\n",
    "reviews['summary_text'] = reviews['summary_text'].apply(lambda x: \" \".join(x for x in x.split() if x not in stop))"
   ]
  },
  {
   "cell_type": "code",
   "execution_count": 133,
   "metadata": {},
   "outputs": [
    {
     "data": {
      "text/plain": [
       "''"
      ]
     },
     "execution_count": 133,
     "metadata": {},
     "output_type": "execute_result"
    }
   ],
   "source": [
    "# Performing lemmatization on blank text. This helps in speeding up the lemmatization process\n",
    "Word(\"\").lemmatize()"
   ]
  },
  {
   "cell_type": "code",
   "execution_count": 134,
   "metadata": {},
   "outputs": [],
   "source": [
    "# Applying lemmatization on the summary text column\n",
    "reviews['summary_text'] = reviews['summary_text'].apply(lambda x: \" \".join([Word(word).lemmatize() for word in x.split()]))"
   ]
  },
  {
   "cell_type": "code",
   "execution_count": 135,
   "metadata": {},
   "outputs": [],
   "source": [
    "# Applying tfidf with bigrams\n",
    "\n",
    "vectorizer = TfidfVectorizer(ngram_range=(2,2))\n",
    "\n",
    "vect = vectorizer.fit_transform(reviews['summary_text'])"
   ]
  },
  {
   "cell_type": "markdown",
   "metadata": {},
   "source": [
    "### Fitting models - Logistic Regression"
   ]
  },
  {
   "cell_type": "code",
   "execution_count": 136,
   "metadata": {},
   "outputs": [],
   "source": [
    "# Initializing regressor\n",
    "regressor = LogisticRegression()"
   ]
  },
  {
   "cell_type": "code",
   "execution_count": 137,
   "metadata": {},
   "outputs": [],
   "source": [
    "# Copying\n",
    "y_train_step4 = reviews['Score']"
   ]
  },
  {
   "cell_type": "code",
   "execution_count": 140,
   "metadata": {},
   "outputs": [
    {
     "data": {
      "text/plain": [
       "285227"
      ]
     },
     "execution_count": 140,
     "metadata": {},
     "output_type": "execute_result"
    }
   ],
   "source": [
    "# Count of remaining reviews\n",
    "y_train_step4.count()"
   ]
  },
  {
   "cell_type": "code",
   "execution_count": 141,
   "metadata": {},
   "outputs": [
    {
     "name": "stderr",
     "output_type": "stream",
     "text": [
      "C:\\Users\\prateek\\Anaconda3\\lib\\site-packages\\pandas\\core\\indexing.py:1637: SettingWithCopyWarning: \n",
      "A value is trying to be set on a copy of a slice from a DataFrame\n",
      "\n",
      "See the caveats in the documentation: https://pandas.pydata.org/pandas-docs/stable/user_guide/indexing.html#returning-a-view-versus-a-copy\n",
      "  self._setitem_single_block(indexer, value, name)\n",
      "C:\\Users\\prateek\\Anaconda3\\lib\\site-packages\\pandas\\core\\indexing.py:1637: SettingWithCopyWarning: \n",
      "A value is trying to be set on a copy of a slice from a DataFrame\n",
      "\n",
      "See the caveats in the documentation: https://pandas.pydata.org/pandas-docs/stable/user_guide/indexing.html#returning-a-view-versus-a-copy\n",
      "  self._setitem_single_block(indexer, value, name)\n"
     ]
    }
   ],
   "source": [
    "# Converting score of reviews\n",
    "y_train_step4.loc[y_train_step4 < 3] = 0\n",
    "y_train_step4.loc[y_train_step4 > 3] = 1"
   ]
  },
  {
   "cell_type": "code",
   "execution_count": 142,
   "metadata": {},
   "outputs": [
    {
     "data": {
      "text/plain": [
       "1    240558\n",
       "0     44669\n",
       "Name: Score, dtype: int64"
      ]
     },
     "execution_count": 142,
     "metadata": {},
     "output_type": "execute_result"
    }
   ],
   "source": [
    "# Counting reviews by class\n",
    "y_train_step4.value_counts()"
   ]
  },
  {
   "cell_type": "code",
   "execution_count": 143,
   "metadata": {},
   "outputs": [
    {
     "name": "stderr",
     "output_type": "stream",
     "text": [
      "C:\\Users\\prateek\\Anaconda3\\lib\\site-packages\\sklearn\\linear_model\\logistic.py:432: FutureWarning: Default solver will be changed to 'lbfgs' in 0.22. Specify a solver to silence this warning.\n",
      "  FutureWarning)\n"
     ]
    },
    {
     "data": {
      "text/plain": [
       "LogisticRegression(C=1.0, class_weight=None, dual=False, fit_intercept=True,\n",
       "                   intercept_scaling=1, l1_ratio=None, max_iter=100,\n",
       "                   multi_class='warn', n_jobs=None, penalty='l2',\n",
       "                   random_state=None, solver='warn', tol=0.0001, verbose=0,\n",
       "                   warm_start=False)"
      ]
     },
     "execution_count": 143,
     "metadata": {},
     "output_type": "execute_result"
    }
   ],
   "source": [
    "# Fitting model to training data\n",
    "regressor.fit(vect, y_train_step4)"
   ]
  },
  {
   "cell_type": "code",
   "execution_count": 144,
   "metadata": {},
   "outputs": [],
   "source": [
    "# Calculating accuracy on training set\n",
    "score = regressor.score(vect, y_train_step4)"
   ]
  },
  {
   "cell_type": "code",
   "execution_count": 145,
   "metadata": {},
   "outputs": [
    {
     "data": {
      "text/plain": [
       "0.9275699705848325"
      ]
     },
     "execution_count": 145,
     "metadata": {},
     "output_type": "execute_result"
    }
   ],
   "source": [
    "# Displaying accuracy\n",
    "score"
   ]
  },
  {
   "cell_type": "code",
   "execution_count": 146,
   "metadata": {},
   "outputs": [
    {
     "name": "stderr",
     "output_type": "stream",
     "text": [
      "C:\\Users\\prateek\\Anaconda3\\lib\\site-packages\\sklearn\\linear_model\\logistic.py:432: FutureWarning: Default solver will be changed to 'lbfgs' in 0.22. Specify a solver to silence this warning.\n",
      "  FutureWarning)\n"
     ]
    }
   ],
   "source": [
    "# Calculating cross validation scores\n",
    "\n",
    "scores = cross_val_score(LogisticRegression(), vect, y_train_step4, cv=5)"
   ]
  },
  {
   "cell_type": "code",
   "execution_count": 147,
   "metadata": {
    "scrolled": true
   },
   "outputs": [
    {
     "name": "stdout",
     "output_type": "stream",
     "text": [
      "[0.8925078  0.89412053 0.89376994 0.89187484 0.8905757 ]\n"
     ]
    }
   ],
   "source": [
    "# Displaying cross validation scores\n",
    "print(scores)"
   ]
  },
  {
   "cell_type": "markdown",
   "metadata": {},
   "source": [
    "## Multinomial NB"
   ]
  },
  {
   "cell_type": "code",
   "execution_count": 148,
   "metadata": {},
   "outputs": [],
   "source": [
    "# Initializing classifier\n",
    "mnb = MultinomialNB()"
   ]
  },
  {
   "cell_type": "code",
   "execution_count": 149,
   "metadata": {},
   "outputs": [
    {
     "data": {
      "text/plain": [
       "MultinomialNB(alpha=1.0, class_prior=None, fit_prior=True)"
      ]
     },
     "execution_count": 149,
     "metadata": {},
     "output_type": "execute_result"
    }
   ],
   "source": [
    "# Fitting model to training data\n",
    "mnb.fit(vect, y_train_step4)"
   ]
  },
  {
   "cell_type": "code",
   "execution_count": 150,
   "metadata": {},
   "outputs": [],
   "source": [
    "# Calculating accuracy score\n",
    "mnb_score = mnb.score(vect, y_train_step4)"
   ]
  },
  {
   "cell_type": "code",
   "execution_count": 151,
   "metadata": {},
   "outputs": [
    {
     "data": {
      "text/plain": [
       "0.8502000161275055"
      ]
     },
     "execution_count": 151,
     "metadata": {},
     "output_type": "execute_result"
    }
   ],
   "source": [
    "# Printing accuracy score\n",
    "mnb_score"
   ]
  },
  {
   "cell_type": "code",
   "execution_count": 152,
   "metadata": {},
   "outputs": [],
   "source": [
    "# Calculating cross validation scores\n",
    "mnb_scores = cross_val_score(MultinomialNB(), vect, y_train_step4, cv=5)"
   ]
  },
  {
   "cell_type": "code",
   "execution_count": 153,
   "metadata": {},
   "outputs": [
    {
     "name": "stdout",
     "output_type": "stream",
     "text": [
      "[0.84396803 0.84400309 0.84393297 0.84400035 0.84385737]\n"
     ]
    }
   ],
   "source": [
    "# Printing cross validation scores\n",
    "print(mnb_scores)"
   ]
  },
  {
   "cell_type": "markdown",
   "metadata": {},
   "source": [
    "### Stochastic Gradient Descent Classifier"
   ]
  },
  {
   "cell_type": "code",
   "execution_count": 154,
   "metadata": {},
   "outputs": [],
   "source": [
    "# Initializing the Classifier\n",
    "sgd = SGDClassifier()"
   ]
  },
  {
   "cell_type": "code",
   "execution_count": 155,
   "metadata": {},
   "outputs": [
    {
     "data": {
      "text/plain": [
       "SGDClassifier(alpha=0.0001, average=False, class_weight=None,\n",
       "              early_stopping=False, epsilon=0.1, eta0=0.0, fit_intercept=True,\n",
       "              l1_ratio=0.15, learning_rate='optimal', loss='hinge',\n",
       "              max_iter=1000, n_iter_no_change=5, n_jobs=None, penalty='l2',\n",
       "              power_t=0.5, random_state=None, shuffle=True, tol=0.001,\n",
       "              validation_fraction=0.1, verbose=0, warm_start=False)"
      ]
     },
     "execution_count": 155,
     "metadata": {},
     "output_type": "execute_result"
    }
   ],
   "source": [
    "# Fitting model to the training set\n",
    "sgd.fit(vect, y_train_step4)"
   ]
  },
  {
   "cell_type": "code",
   "execution_count": 156,
   "metadata": {},
   "outputs": [],
   "source": [
    "# Calculating accuracy score on training set\n",
    "sgd_score = sgd.score(vect, y_train_step4)"
   ]
  },
  {
   "cell_type": "code",
   "execution_count": 157,
   "metadata": {},
   "outputs": [
    {
     "data": {
      "text/plain": [
       "0.8449094931405512"
      ]
     },
     "execution_count": 157,
     "metadata": {},
     "output_type": "execute_result"
    }
   ],
   "source": [
    "# Displaying accuracy score\n",
    "sgd_score"
   ]
  },
  {
   "cell_type": "code",
   "execution_count": 158,
   "metadata": {},
   "outputs": [],
   "source": [
    "# Calculating cross validation scores\n",
    "sgd_scores = cross_val_score(SGDClassifier(), vect, y_train_step4, cv=5)"
   ]
  },
  {
   "cell_type": "code",
   "execution_count": 159,
   "metadata": {},
   "outputs": [
    {
     "name": "stdout",
     "output_type": "stream",
     "text": [
      "[0.84479192 0.84477439 0.84468674 0.84464896 0.84482154]\n"
     ]
    }
   ],
   "source": [
    "# Displaying cross validation scores\n",
    "print(sgd_scores)"
   ]
  },
  {
   "cell_type": "markdown",
   "metadata": {},
   "source": [
    "# Hyperparameter Tuning"
   ]
  },
  {
   "cell_type": "markdown",
   "metadata": {},
   "source": [
    "## Logistic Regression"
   ]
  },
  {
   "cell_type": "code",
   "execution_count": 160,
   "metadata": {},
   "outputs": [],
   "source": [
    "# Defining values for logistic regression hyperparameter\n",
    "param_grid = {'C': [0.001, 0.01, 0.1, 1, 10]}"
   ]
  },
  {
   "cell_type": "code",
   "execution_count": 161,
   "metadata": {},
   "outputs": [],
   "source": [
    "# Initializing Grid Search\n",
    "grid = GridSearchCV(LogisticRegression(), param_grid, cv=5)"
   ]
  },
  {
   "cell_type": "code",
   "execution_count": 162,
   "metadata": {},
   "outputs": [
    {
     "name": "stderr",
     "output_type": "stream",
     "text": [
      "C:\\Users\\prateek\\Anaconda3\\lib\\site-packages\\sklearn\\linear_model\\logistic.py:432: FutureWarning: Default solver will be changed to 'lbfgs' in 0.22. Specify a solver to silence this warning.\n",
      "  FutureWarning)\n"
     ]
    },
    {
     "data": {
      "text/plain": [
       "GridSearchCV(cv=5, error_score='raise-deprecating',\n",
       "             estimator=LogisticRegression(C=1.0, class_weight=None, dual=False,\n",
       "                                          fit_intercept=True,\n",
       "                                          intercept_scaling=1, l1_ratio=None,\n",
       "                                          max_iter=100, multi_class='warn',\n",
       "                                          n_jobs=None, penalty='l2',\n",
       "                                          random_state=None, solver='warn',\n",
       "                                          tol=0.0001, verbose=0,\n",
       "                                          warm_start=False),\n",
       "             iid='warn', n_jobs=None,\n",
       "             param_grid={'C': [0.001, 0.01, 0.1, 1, 10]},\n",
       "             pre_dispatch='2*n_jobs', refit=True, return_train_score=False,\n",
       "             scoring=None, verbose=0)"
      ]
     },
     "execution_count": 162,
     "metadata": {},
     "output_type": "execute_result"
    }
   ],
   "source": [
    "# Running grid search with 5-fold cross validation\n",
    "grid.fit(vect, y_train_step4)"
   ]
  },
  {
   "cell_type": "code",
   "execution_count": 163,
   "metadata": {},
   "outputs": [
    {
     "name": "stdout",
     "output_type": "stream",
     "text": [
      "Best cross-validation score: 0.92\n",
      "Best parameters:  {'C': 10}\n"
     ]
    }
   ],
   "source": [
    "# Printing best parameter value and cross validation score\n",
    "print(\"Best cross-validation score: {:.2f}\".format(grid.best_score_))\n",
    "print(\"Best parameters: \", grid.best_params_)"
   ]
  },
  {
   "cell_type": "code",
   "execution_count": 172,
   "metadata": {},
   "outputs": [],
   "source": [
    "# Initializing model with optimal parameters\n",
    "logistic_model = LogisticRegression(C=10)"
   ]
  },
  {
   "cell_type": "code",
   "execution_count": 173,
   "metadata": {},
   "outputs": [
    {
     "name": "stderr",
     "output_type": "stream",
     "text": [
      "C:\\Users\\prateek\\Anaconda3\\lib\\site-packages\\sklearn\\linear_model\\logistic.py:432: FutureWarning: Default solver will be changed to 'lbfgs' in 0.22. Specify a solver to silence this warning.\n",
      "  FutureWarning)\n"
     ]
    },
    {
     "data": {
      "text/plain": [
       "LogisticRegression(C=10, class_weight=None, dual=False, fit_intercept=True,\n",
       "                   intercept_scaling=1, l1_ratio=None, max_iter=100,\n",
       "                   multi_class='warn', n_jobs=None, penalty='l2',\n",
       "                   random_state=None, solver='warn', tol=0.0001, verbose=0,\n",
       "                   warm_start=False)"
      ]
     },
     "execution_count": 173,
     "metadata": {},
     "output_type": "execute_result"
    }
   ],
   "source": [
    "# Fitting model to training set\n",
    "logistic_model.fit(vect, y_train_step4)"
   ]
  },
  {
   "cell_type": "code",
   "execution_count": 174,
   "metadata": {},
   "outputs": [],
   "source": [
    "# Importing test data and performing transformations\n",
    "X_test = pd.read_csv('test_new.csv')\n",
    "X_test['summary_text'] = X_test['Summary'] + ' ' + X_test['Text']\n",
    "X_test = X_test['summary_text']\n",
    "X_test.fillna('',inplace=True)\n",
    "\n",
    "\n",
    "y_test = pd.read_csv('labels_new.csv')\n",
    "y_test.loc[y_test['Score'] < 3, 'Score'] = 0\n",
    "y_test.loc[y_test['Score'] > 3, 'Score'] = 1"
   ]
  },
  {
   "cell_type": "code",
   "execution_count": 176,
   "metadata": {},
   "outputs": [],
   "source": [
    "# Applying tfidf with bigrams\n",
    "\n",
    "\n",
    "test_vect = vectorizer.transform(X_test)"
   ]
  },
  {
   "cell_type": "code",
   "execution_count": 177,
   "metadata": {},
   "outputs": [],
   "source": [
    "# Predicting classes\n",
    "y_pred_logistic = logistic_model.predict(test_vect)"
   ]
  },
  {
   "cell_type": "code",
   "execution_count": 178,
   "metadata": {},
   "outputs": [],
   "source": [
    "# Calculating accuracy\n",
    "logistic_accuracy = accuracy_score(y_pred_logistic, y_test)"
   ]
  },
  {
   "cell_type": "code",
   "execution_count": 179,
   "metadata": {},
   "outputs": [
    {
     "name": "stdout",
     "output_type": "stream",
     "text": [
      "0.9365011751998601\n"
     ]
    }
   ],
   "source": [
    "# Printing accuracy\n",
    "print(logistic_accuracy)"
   ]
  },
  {
   "cell_type": "code",
   "execution_count": 180,
   "metadata": {},
   "outputs": [
    {
     "name": "stdout",
     "output_type": "stream",
     "text": [
      "              precision    recall  f1-score   support\n",
      "\n",
      "           0       0.69      0.88      0.77     15959\n",
      "           1       0.98      0.94      0.96    115508\n",
      "\n",
      "    accuracy                           0.94    131467\n",
      "   macro avg       0.83      0.91      0.87    131467\n",
      "weighted avg       0.95      0.94      0.94    131467\n",
      "\n"
     ]
    }
   ],
   "source": [
    "# Printing classification report\n",
    "logistic_cr = classification_report(y_pred_logistic, y_test)\n",
    "print(logistic_cr)"
   ]
  },
  {
   "cell_type": "markdown",
   "metadata": {},
   "source": [
    "## Multinomial Naive Bayes"
   ]
  },
  {
   "cell_type": "code",
   "execution_count": 164,
   "metadata": {},
   "outputs": [],
   "source": [
    "# Defining search grid for naive bayes hyperparameter\n",
    "nb_param_grid = {'alpha': [1, 0.1, 0.01, 0.001, 0.0001]}"
   ]
  },
  {
   "cell_type": "code",
   "execution_count": 165,
   "metadata": {},
   "outputs": [],
   "source": [
    "# Initializing Grid Searchc\n",
    "nb_grid = GridSearchCV(MultinomialNB(), nb_param_grid, cv=5)"
   ]
  },
  {
   "cell_type": "code",
   "execution_count": 166,
   "metadata": {},
   "outputs": [
    {
     "data": {
      "text/plain": [
       "GridSearchCV(cv=5, error_score='raise-deprecating',\n",
       "             estimator=MultinomialNB(alpha=1.0, class_prior=None,\n",
       "                                     fit_prior=True),\n",
       "             iid='warn', n_jobs=None,\n",
       "             param_grid={'alpha': [1, 0.1, 0.01, 0.001, 0.0001]},\n",
       "             pre_dispatch='2*n_jobs', refit=True, return_train_score=False,\n",
       "             scoring=None, verbose=0)"
      ]
     },
     "execution_count": 166,
     "metadata": {},
     "output_type": "execute_result"
    }
   ],
   "source": [
    "# Fitting grid search to training data\n",
    "nb_grid.fit(vect, y_train_step4)"
   ]
  },
  {
   "cell_type": "code",
   "execution_count": 167,
   "metadata": {},
   "outputs": [
    {
     "name": "stdout",
     "output_type": "stream",
     "text": [
      "Best cross-validation score: 0.90\n",
      "Best parameters:  {'alpha': 0.001}\n"
     ]
    }
   ],
   "source": [
    "# Printing optimal values of hyperparameter and cross validation score\n",
    "print(\"Best cross-validation score: {:.2f}\".format(nb_grid.best_score_))\n",
    "print(\"Best parameters: \", nb_grid.best_params_)"
   ]
  },
  {
   "cell_type": "code",
   "execution_count": 181,
   "metadata": {},
   "outputs": [],
   "source": [
    "# Initializing optimized model\n",
    "naivebayes_model = MultinomialNB(alpha=0.001)"
   ]
  },
  {
   "cell_type": "code",
   "execution_count": 182,
   "metadata": {},
   "outputs": [
    {
     "data": {
      "text/plain": [
       "MultinomialNB(alpha=0.001, class_prior=None, fit_prior=True)"
      ]
     },
     "execution_count": 182,
     "metadata": {},
     "output_type": "execute_result"
    }
   ],
   "source": [
    "# Fitting model to training data\n",
    "naivebayes_model.fit(vect,y_train_step4)"
   ]
  },
  {
   "cell_type": "code",
   "execution_count": 183,
   "metadata": {},
   "outputs": [],
   "source": [
    "# Predicting classes using naive bayes model\n",
    "y_pred_naivebayes = naivebayes_model.predict(test_vect)"
   ]
  },
  {
   "cell_type": "code",
   "execution_count": 184,
   "metadata": {},
   "outputs": [
    {
     "name": "stdout",
     "output_type": "stream",
     "text": [
      "0.9149824670829942\n"
     ]
    }
   ],
   "source": [
    "# Calculating and printing accuracy on test data\n",
    "naivebayes_accuracy = accuracy_score(y_pred_naivebayes, y_test)\n",
    "print(naivebayes_accuracy)"
   ]
  },
  {
   "cell_type": "code",
   "execution_count": 185,
   "metadata": {},
   "outputs": [
    {
     "name": "stdout",
     "output_type": "stream",
     "text": [
      "              precision    recall  f1-score   support\n",
      "\n",
      "           0       0.49      0.94      0.64     10658\n",
      "           1       0.99      0.91      0.95    120809\n",
      "\n",
      "    accuracy                           0.91    131467\n",
      "   macro avg       0.74      0.92      0.80    131467\n",
      "weighted avg       0.95      0.91      0.93    131467\n",
      "\n"
     ]
    }
   ],
   "source": [
    "# Printing classification report\n",
    "naivebayes_cr = classification_report(y_pred_naivebayes, y_test)\n",
    "print(naivebayes_cr)"
   ]
  },
  {
   "cell_type": "markdown",
   "metadata": {},
   "source": [
    "## SGD Classifier"
   ]
  },
  {
   "cell_type": "code",
   "execution_count": 168,
   "metadata": {},
   "outputs": [],
   "source": [
    "# Defining SGD hyperparameter grid\n",
    "sgd_param_grid = {'alpha': [0.0001, 0.00001, 0.000001]}"
   ]
  },
  {
   "cell_type": "code",
   "execution_count": 169,
   "metadata": {},
   "outputs": [],
   "source": [
    "# Initializing Grid Search\n",
    "sgd_grid = GridSearchCV(SGDClassifier(), sgd_param_grid, cv=5)"
   ]
  },
  {
   "cell_type": "code",
   "execution_count": 170,
   "metadata": {},
   "outputs": [
    {
     "data": {
      "text/plain": [
       "GridSearchCV(cv=5, error_score='raise-deprecating',\n",
       "             estimator=SGDClassifier(alpha=0.0001, average=False,\n",
       "                                     class_weight=None, early_stopping=False,\n",
       "                                     epsilon=0.1, eta0=0.0, fit_intercept=True,\n",
       "                                     l1_ratio=0.15, learning_rate='optimal',\n",
       "                                     loss='hinge', max_iter=1000,\n",
       "                                     n_iter_no_change=5, n_jobs=None,\n",
       "                                     penalty='l2', power_t=0.5,\n",
       "                                     random_state=None, shuffle=True, tol=0.001,\n",
       "                                     validation_fraction=0.1, verbose=0,\n",
       "                                     warm_start=False),\n",
       "             iid='warn', n_jobs=None,\n",
       "             param_grid={'alpha': [0.0001, 1e-05, 1e-06]},\n",
       "             pre_dispatch='2*n_jobs', refit=True, return_train_score=False,\n",
       "             scoring=None, verbose=0)"
      ]
     },
     "execution_count": 170,
     "metadata": {},
     "output_type": "execute_result"
    }
   ],
   "source": [
    "# Fitting grid search to training data (5-fold cross validation)\n",
    "sgd_grid.fit(vect, y_train_step4)"
   ]
  },
  {
   "cell_type": "code",
   "execution_count": 171,
   "metadata": {},
   "outputs": [
    {
     "name": "stdout",
     "output_type": "stream",
     "text": [
      "Best cross-validation score: 0.93\n",
      "Best parameters:  {'alpha': 1e-06}\n"
     ]
    }
   ],
   "source": [
    "# Printing best cross validation score and optimal hyperparameter value\n",
    "print(\"Best cross-validation score: {:.2f}\".format(sgd_grid.best_score_))\n",
    "print(\"Best parameters: \", sgd_grid.best_params_)"
   ]
  },
  {
   "cell_type": "code",
   "execution_count": 186,
   "metadata": {},
   "outputs": [],
   "source": [
    "# Initializing optimized model\n",
    "sgd_model = SGDClassifier(alpha=0.000001)"
   ]
  },
  {
   "cell_type": "code",
   "execution_count": 187,
   "metadata": {},
   "outputs": [
    {
     "data": {
      "text/plain": [
       "SGDClassifier(alpha=1e-06, average=False, class_weight=None,\n",
       "              early_stopping=False, epsilon=0.1, eta0=0.0, fit_intercept=True,\n",
       "              l1_ratio=0.15, learning_rate='optimal', loss='hinge',\n",
       "              max_iter=1000, n_iter_no_change=5, n_jobs=None, penalty='l2',\n",
       "              power_t=0.5, random_state=None, shuffle=True, tol=0.001,\n",
       "              validation_fraction=0.1, verbose=0, warm_start=False)"
      ]
     },
     "execution_count": 187,
     "metadata": {},
     "output_type": "execute_result"
    }
   ],
   "source": [
    "# Fitting model to training data\n",
    "sgd_model.fit(vect, y_train_step4)"
   ]
  },
  {
   "cell_type": "code",
   "execution_count": 188,
   "metadata": {},
   "outputs": [],
   "source": [
    "# Making predictions\n",
    "sgd_pred = sgd_model.predict(test_vect)"
   ]
  },
  {
   "cell_type": "code",
   "execution_count": 189,
   "metadata": {},
   "outputs": [],
   "source": [
    "# Calculating accuracy on test set\n",
    "sgd_accuracy = accuracy_score(sgd_pred, y_test)"
   ]
  },
  {
   "cell_type": "code",
   "execution_count": 190,
   "metadata": {},
   "outputs": [
    {
     "name": "stdout",
     "output_type": "stream",
     "text": [
      "0.9448454745297299\n"
     ]
    }
   ],
   "source": [
    "# Printing accuracy\n",
    "print(sgd_accuracy)"
   ]
  },
  {
   "cell_type": "code",
   "execution_count": 191,
   "metadata": {},
   "outputs": [
    {
     "name": "stdout",
     "output_type": "stream",
     "text": [
      "              precision    recall  f1-score   support\n",
      "\n",
      "           0       0.77      0.86      0.81     18316\n",
      "           1       0.98      0.96      0.97    113151\n",
      "\n",
      "    accuracy                           0.94    131467\n",
      "   macro avg       0.87      0.91      0.89    131467\n",
      "weighted avg       0.95      0.94      0.95    131467\n",
      "\n"
     ]
    }
   ],
   "source": [
    "# Printing classification report\n",
    "sgd_cr = classification_report(sgd_pred, y_test)\n",
    "print(sgd_cr)"
   ]
  },
  {
   "cell_type": "markdown",
   "metadata": {},
   "source": [
    "# Step 5 - Running deep learning model on dataset"
   ]
  },
  {
   "cell_type": "code",
   "execution_count": 241,
   "metadata": {},
   "outputs": [
    {
     "data": {
      "text/plain": [
       "1    240558\n",
       "0     44669\n",
       "Name: Score, dtype: int64"
      ]
     },
     "execution_count": 241,
     "metadata": {},
     "output_type": "execute_result"
    }
   ],
   "source": [
    "# Calculating number of reviews belonging to each score\n",
    "reviews['Score'].value_counts()"
   ]
  },
  {
   "cell_type": "code",
   "execution_count": 242,
   "metadata": {
    "gather": {
     "logged": 1615491062167
    },
    "jupyter": {
     "outputs_hidden": false,
     "source_hidden": false
    },
    "nteract": {
     "transient": {
      "deleting": false
     }
    }
   },
   "outputs": [],
   "source": [
    "# Extracting 40000 reviews from each type of review\n",
    "df_1 = reviews[reviews['Score']==0].sample(n=40000, replace=True)\n",
    "df_2 = reviews[reviews['Score']==1].sample(n=40000, replace=True)"
   ]
  },
  {
   "cell_type": "code",
   "execution_count": 243,
   "metadata": {
    "gather": {
     "logged": 1615491064265
    },
    "jupyter": {
     "outputs_hidden": false,
     "source_hidden": false
    },
    "nteract": {
     "transient": {
      "deleting": false
     }
    }
   },
   "outputs": [],
   "source": [
    "# Combining dataframes\n",
    "dfs = [df_1,df_2]"
   ]
  },
  {
   "cell_type": "code",
   "execution_count": 244,
   "metadata": {
    "gather": {
     "logged": 1615491065929
    },
    "jupyter": {
     "outputs_hidden": false,
     "source_hidden": false
    },
    "nteract": {
     "transient": {
      "deleting": false
     }
    }
   },
   "outputs": [],
   "source": [
    "# Creating new dataframe\n",
    "df_new = pd.concat(dfs,axis=0).reset_index()"
   ]
  },
  {
   "cell_type": "code",
   "execution_count": 245,
   "metadata": {
    "gather": {
     "logged": 1615491068359
    }
   },
   "outputs": [],
   "source": [
    "# Defining vocabulary size\n",
    "vocabulary_size = 3000"
   ]
  },
  {
   "cell_type": "code",
   "execution_count": 246,
   "metadata": {
    "gather": {
     "logged": 1615491069777
    }
   },
   "outputs": [],
   "source": [
    "# Initializing training sets\n",
    "X_train, y_train = df_new['summary_text'], df_new['Score']"
   ]
  },
  {
   "cell_type": "code",
   "execution_count": 247,
   "metadata": {
    "gather": {
     "logged": 1615491076254
    }
   },
   "outputs": [],
   "source": [
    "# Importing test data and applying transformations\n",
    "X_test = pd.read_csv('test_new.csv')\n",
    "X_test['summary_text'] = X_test['Summary'] + ' ' + X_test['Text']\n",
    "X_test = X_test['summary_text']"
   ]
  },
  {
   "cell_type": "code",
   "execution_count": 248,
   "metadata": {
    "gather": {
     "logged": 1615491081398
    },
    "jupyter": {
     "outputs_hidden": false,
     "source_hidden": false
    },
    "nteract": {
     "transient": {
      "deleting": false
     }
    }
   },
   "outputs": [],
   "source": [
    "# Filling all NA values with blank space\n",
    "X_test.fillna('',inplace=True)"
   ]
  },
  {
   "cell_type": "code",
   "execution_count": 249,
   "metadata": {
    "gather": {
     "logged": 1615491085130
    }
   },
   "outputs": [],
   "source": [
    "# Importing test data\n",
    "y_test = pd.read_csv('labels_new.csv')"
   ]
  },
  {
   "cell_type": "code",
   "execution_count": 250,
   "metadata": {
    "gather": {
     "logged": 1615491087115
    },
    "jupyter": {
     "outputs_hidden": false,
     "source_hidden": false
    },
    "nteract": {
     "transient": {
      "deleting": false
     }
    }
   },
   "outputs": [],
   "source": [
    "# Applying transformations\n",
    "y_test.loc[y_test['Score'] < 3, 'Score'] = 0\n",
    "\n",
    "y_test.loc[y_test['Score'] > 3, 'Score'] = 1"
   ]
  },
  {
   "cell_type": "code",
   "execution_count": 251,
   "metadata": {
    "gather": {
     "logged": 1615493116731
    }
   },
   "outputs": [],
   "source": [
    "# Initialzing text vectorization layer\n",
    "encoder = tf.keras.layers.experimental.preprocessing.TextVectorization(max_tokens = vocabulary_size, ngrams=(2,2))\n"
   ]
  },
  {
   "cell_type": "code",
   "execution_count": 252,
   "metadata": {
    "gather": {
     "logged": 1615493128449
    }
   },
   "outputs": [],
   "source": [
    "# Applying encoding to training data\n",
    "encoder.adapt(np.array(X_train))"
   ]
  },
  {
   "cell_type": "code",
   "execution_count": 254,
   "metadata": {
    "gather": {
     "logged": 1615453116183
    }
   },
   "outputs": [
    {
     "data": {
      "text/plain": [
       "array(['', '[UNK]', 'i would', 'i love', 'i dont', 'i bought', 'i tried',\n",
       "       'taste like', 'i like', 'i ordered', 'i think', 'i thought',\n",
       "       'i could', 'product i', 'i found', 'i got', 'i really', 'i cant',\n",
       "       'i used', 'i use'], dtype='<U22')"
      ]
     },
     "execution_count": 254,
     "metadata": {},
     "output_type": "execute_result"
    }
   ],
   "source": [
    "# Viewing first 20 bigrams of the vocabulary\n",
    "vocab = np.array(encoder.get_vocabulary())\n",
    "vocab[:20]"
   ]
  },
  {
   "cell_type": "code",
   "execution_count": 256,
   "metadata": {
    "gather": {
     "logged": 1615453118564
    }
   },
   "outputs": [
    {
     "name": "stdout",
     "output_type": "stream",
     "text": [
      "Original:  total scam I thorougly disgusted Betty Crocker product Glutenfree Bisquick shame I applaud excellent cake cookie brownie mixesIm upset coming glutenfree baking mix for1 marketing though equivalent Bisquick and2 pricing ridiculously highIngredients regular Bisquick Enriched flour Partiallly hydrogenated soybean andor cottonseed oil leavening dextrose saltIngredients glutenfree Bisquick Rice Flour Sugar Leavening baking soda sodium aluminum phosphate monocalcium phosphate Modified Potato Starch Salt Xanthan GumNotice anything missing ingredient glutenfree Bisquick Yup thats righttheres shortening oilThat whole point original Bisquicka baking mix ALREADY HAD THE SHORTENING MIXED IN That avoids longest messiest step baking thing like biscuit That people buy baking mixesfor specific convenienceBetty Crocker decided leave shortening oil altogether even though shortening oil always naturally glutenfree So cant pretend safetyforceliacs factor Its costsavings pure simpleHeres breakdown youre paying 5 pound forrice flour 99 cent pound local Asian storesugar 288 5 pound bag Walmart potato starch also 99 cent pound Asian storebaking powder 319 pound Emergency Essentialssalt 2 26 ounce Mortonsxanthan gum 1045 4 ounce AmazonYes xanthan gum expensivebut little needed 16ounce box glutenfree Bisquick would contain teaspoon xanthan gummaybe 20 cent worth xanthan gumBetty Crocker charging 5 time would cost make mix home eliminating major convenience factor cost regular baking mixI dont mind making fair profit especially product really WERE equivalent regular Bisquick But theyre gouging u misleading productMAKE YOUR OWN EASILY AND FOR LESS THAN 20 OF WHAT THEY CHARGESince there oil glutenfree Bisquick easily stir equivalent make 5 pound time little effort keep several monthsOr want REAL Bisquick substitute betterbatterorg recipe site cupforcup substitute Bisquick DOES use shortening nonfat dry milk powder Or use buttermilk powder even Vances dairyfree powder It make 10 cup time store well dont use glutenfree flouryou use glutenfree flour replacement want like rice flour potato starch local Asian store mixed appropriate amount xanthan gum 12 teaspoon every two cupsTo find recipe google search betterbatter Bisquick Substitute Master MixBoo Betty Crocker\n",
      "Round-trip:  [UNK] [UNK] [UNK] [UNK] [UNK] betty crocker [UNK] [UNK] [UNK] [UNK] [UNK] [UNK] [UNK] [UNK] [UNK] [UNK] [UNK] [UNK] [UNK] [UNK] [UNK] [UNK] [UNK] [UNK] [UNK] [UNK] [UNK] [UNK] [UNK] [UNK] [UNK] [UNK] [UNK] [UNK] [UNK] [UNK] [UNK] [UNK] [UNK] [UNK] [UNK] [UNK] [UNK] [UNK] [UNK] [UNK] [UNK] rice flour [UNK] [UNK] [UNK] baking soda [UNK] [UNK] [UNK] [UNK] [UNK] [UNK] [UNK] [UNK] [UNK] [UNK] [UNK] [UNK] [UNK] [UNK] [UNK] [UNK] [UNK] [UNK] [UNK] [UNK] [UNK] [UNK] [UNK] [UNK] [UNK] [UNK] [UNK] [UNK] [UNK] [UNK] [UNK] [UNK] [UNK] [UNK] [UNK] [UNK] [UNK] [UNK] [UNK] [UNK] thing like [UNK] [UNK] [UNK] [UNK] [UNK] [UNK] [UNK] [UNK] [UNK] [UNK] [UNK] [UNK] [UNK] [UNK] [UNK] even though [UNK] [UNK] [UNK] [UNK] [UNK] [UNK] [UNK] [UNK] [UNK] [UNK] [UNK] [UNK] [UNK] [UNK] [UNK] [UNK] [UNK] [UNK] 5 pound [UNK] [UNK] [UNK] [UNK] [UNK] [UNK] [UNK] [UNK] [UNK] [UNK] 5 pound pound bag [UNK] [UNK] [UNK] [UNK] [UNK] [UNK] [UNK] [UNK] [UNK] [UNK] [UNK] [UNK] [UNK] [UNK] [UNK] [UNK] [UNK] [UNK] [UNK] [UNK] [UNK] [UNK] [UNK] [UNK] [UNK] [UNK] [UNK] [UNK] [UNK] [UNK] [UNK] [UNK] [UNK] [UNK] [UNK] [UNK] [UNK] [UNK] [UNK] [UNK] [UNK] [UNK] [UNK] [UNK] [UNK] [UNK] [UNK] [UNK] [UNK] [UNK] [UNK] [UNK] [UNK] [UNK] [UNK] [UNK] [UNK] [UNK] [UNK] [UNK] dont mind [UNK] [UNK] [UNK] [UNK] [UNK] product really [UNK] [UNK] [UNK] [UNK] [UNK] [UNK] [UNK] [UNK] [UNK] [UNK] [UNK] [UNK] [UNK] [UNK] [UNK] [UNK] [UNK] [UNK] [UNK] [UNK] [UNK] [UNK] [UNK] [UNK] [UNK] [UNK] [UNK] [UNK] [UNK] [UNK] [UNK] 5 pound [UNK] [UNK] [UNK] [UNK] [UNK] [UNK] [UNK] [UNK] [UNK] [UNK] [UNK] [UNK] [UNK] [UNK] [UNK] [UNK] [UNK] [UNK] [UNK] [UNK] [UNK] [UNK] [UNK] [UNK] [UNK] [UNK] [UNK] [UNK] [UNK] [UNK] [UNK] [UNK] it make [UNK] [UNK] [UNK] [UNK] [UNK] [UNK] dont use [UNK] [UNK] [UNK] [UNK] [UNK] [UNK] [UNK] [UNK] [UNK] rice flour [UNK] [UNK] [UNK] [UNK] [UNK] [UNK] [UNK] [UNK] [UNK] [UNK] [UNK] [UNK] [UNK] [UNK] [UNK] [UNK] [UNK] [UNK] [UNK] [UNK] [UNK] [UNK] [UNK] [UNK] [UNK] betty crocker [UNK] [UNK] [UNK] [UNK] [UNK] betty crocker [UNK] [UNK] [UNK] [UNK] [UNK] [UNK] [UNK] [UNK] [UNK] [UNK] [UNK] [UNK] [UNK] [UNK] [UNK] [UNK] [UNK] [UNK] [UNK] [UNK] [UNK] [UNK] [UNK] [UNK] [UNK] [UNK] [UNK] [UNK] [UNK] [UNK] [UNK] [UNK] [UNK] [UNK] [UNK] [UNK] [UNK] [UNK] [UNK] [UNK] [UNK] rice flour [UNK] [UNK] [UNK] baking soda [UNK] [UNK] [UNK] [UNK] [UNK] [UNK] [UNK] [UNK] [UNK] [UNK] [UNK] [UNK] [UNK] [UNK] [UNK] [UNK] [UNK] [UNK] [UNK] [UNK] [UNK] [UNK] [UNK] [UNK] [UNK] [UNK] [UNK] [UNK] [UNK] [UNK] [UNK] [UNK] [UNK] [UNK] [UNK] [UNK] [UNK] [UNK] [UNK] [UNK] thing like [UNK] [UNK] [UNK] [UNK] [UNK] [UNK] [UNK] [UNK] [UNK] [UNK] [UNK] [UNK] [UNK] [UNK] [UNK] even though [UNK] [UNK] [UNK] [UNK] [UNK] [UNK] [UNK] [UNK] [UNK] [UNK] [UNK] [UNK] [UNK] [UNK] [UNK] [UNK] [UNK] [UNK] 5 pound [UNK] [UNK] [UNK] [UNK] [UNK] [UNK] [UNK] [UNK] [UNK] [UNK] 5 pound pound bag [UNK] [UNK] [UNK] [UNK] [UNK] [UNK] [UNK] [UNK] [UNK] [UNK] [UNK] [UNK] [UNK] [UNK] [UNK] [UNK] [UNK] [UNK] [UNK] [UNK] [UNK] [UNK] [UNK] [UNK] [UNK] [UNK] [UNK] [UNK] [UNK] [UNK] [UNK] [UNK] [UNK] [UNK] [UNK] [UNK] [UNK] [UNK] [UNK] [UNK] [UNK] [UNK] [UNK] [UNK] [UNK] [UNK] [UNK] [UNK] [UNK] [UNK] [UNK] [UNK] [UNK] [UNK] [UNK] [UNK] [UNK] [UNK] [UNK] [UNK] dont mind [UNK] [UNK] [UNK] [UNK] [UNK] product really [UNK] [UNK] [UNK] [UNK] [UNK] [UNK] [UNK] [UNK] [UNK] [UNK] [UNK] [UNK] [UNK] [UNK] [UNK] [UNK] [UNK] [UNK] [UNK] [UNK] [UNK] [UNK] [UNK] [UNK] [UNK] [UNK] [UNK] [UNK] [UNK] [UNK] [UNK] 5 pound [UNK] [UNK] [UNK] [UNK] [UNK] [UNK] [UNK] [UNK] [UNK] [UNK] [UNK] [UNK] [UNK] [UNK] [UNK] [UNK] [UNK] [UNK] [UNK] [UNK] [UNK] [UNK] [UNK] [UNK] [UNK] [UNK] [UNK] [UNK] [UNK] [UNK] [UNK] [UNK] it make [UNK] [UNK] [UNK] [UNK] [UNK] [UNK] dont use [UNK] [UNK] [UNK] [UNK] [UNK] [UNK] [UNK] [UNK] [UNK] rice flour [UNK] [UNK] [UNK] [UNK] [UNK] [UNK] [UNK] [UNK] [UNK] [UNK] [UNK] [UNK] [UNK] [UNK] [UNK] [UNK] [UNK] [UNK] [UNK] [UNK] [UNK] [UNK] [UNK] [UNK] [UNK] betty crocker                                                                                                                                                                                                                                                                                                                                                                                                                                                                                                                                                                                                                                                                                                                                                                                                                                                                                                                                                                                                                                                                                                                                                                                                                                                                                                                                                                                                                                                                                                                                                                                                                                                                                                                                                                    \n",
      "\n",
      "Original:  Solid block sticky mess Yes I know five pound bag What I didnt know would soft sticky mass licorice I literally break chunk eat I tried putting fridge didnt really help The flavor good product fun eat I certainly wouldnt try put lunch kid would hassled bringing bag dog doo school I give two star flavor texture presentation get none\n",
      "Round-trip:  [UNK] [UNK] [UNK] [UNK] yes i i know [UNK] [UNK] pound bag [UNK] what i i didnt didnt know [UNK] [UNK] [UNK] [UNK] [UNK] licorice i i literally [UNK] [UNK] [UNK] eat i i tried [UNK] [UNK] [UNK] didnt really [UNK] [UNK] the flavor flavor good good product [UNK] [UNK] eat i i certainly [UNK] [UNK] [UNK] [UNK] [UNK] [UNK] [UNK] [UNK] [UNK] [UNK] [UNK] [UNK] [UNK] i give [UNK] two star [UNK] flavor texture [UNK] [UNK] [UNK] [UNK] [UNK] [UNK] [UNK] yes i i know [UNK] [UNK] pound bag [UNK] what i i didnt didnt know [UNK] [UNK] [UNK] [UNK] [UNK] licorice i i literally [UNK] [UNK] [UNK] eat i i tried [UNK] [UNK] [UNK] didnt really [UNK] [UNK] the flavor flavor good good product [UNK] [UNK] eat i i certainly [UNK] [UNK] [UNK] [UNK] [UNK] [UNK] [UNK] [UNK] [UNK] [UNK] [UNK] [UNK] [UNK] i give [UNK] two star [UNK] flavor texture [UNK] [UNK] [UNK]                                                                                                                                                                                                                                                                                                                                                                                                                                                                                                                                                                                                                                                                                                                                                                                                                                                                                                                                                                                                                                                                                                                                                                                                                                                                                                                                                                                                                                                                                                                                                                                                                                                                                                                                                                                                                                                                                                                                                                                                                                                                                                                                                                                                                                                                                                    \n",
      "\n",
      "Original:  All Dented Up true Im cancelling subscription come beat hell Not shipping can middle 12 pack flat damaged Drank time anyway though I also found store sell Blue Monkey le subscription price\n",
      "Round-trip:  [UNK] [UNK] [UNK] [UNK] [UNK] [UNK] [UNK] [UNK] [UNK] [UNK] [UNK] [UNK] [UNK] [UNK] 12 pack [UNK] [UNK] [UNK] [UNK] [UNK] [UNK] though i i also also found [UNK] [UNK] [UNK] [UNK] [UNK] [UNK] [UNK] [UNK] [UNK] [UNK] [UNK] [UNK] [UNK] [UNK] [UNK] [UNK] [UNK] [UNK] [UNK] [UNK] [UNK] 12 pack [UNK] [UNK] [UNK] [UNK] [UNK] [UNK] though i i also also found [UNK] [UNK] [UNK] [UNK] [UNK] [UNK] [UNK]                                                                                                                                                                                                                                                                                                                                                                                                                                                                                                                                                                                                                                                                                                                                                                                                                                                                                                                                                                                                                                                                                                                                                                                                                                                                                                                                                                                                                                                                                                                                                                                                                                                                                                                                                                                                                                                                                                                                                                                                                                                                                                                                                                                                                                                                                                                                                            \n",
      "\n"
     ]
    }
   ],
   "source": [
    "# Viewing encodings\n",
    "for n in range(3):\n",
    "    print(\"Original: \", X_train[n])\n",
    "    print(\"Round-trip: \", \" \".join(vocab[encoded_example[n]]))\n",
    "    print()"
   ]
  },
  {
   "cell_type": "code",
   "execution_count": 257,
   "metadata": {},
   "outputs": [],
   "source": [
    "# Initialzing LSTM model\n",
    "model = tf.keras.Sequential([\n",
    "    encoder,\n",
    "    tf.keras.layers.Embedding(\n",
    "        input_dim=len(encoder.get_vocabulary()),\n",
    "        output_dim=10,\n",
    "        mask_zero=True),\n",
    "    tf.keras.layers.LSTM(10),\n",
    "    tf.keras.layers.Dense(5, activation=\"relu\"),\n",
    "    tf.keras.layers.Dense(1, activation=\"sigmoid\")\n",
    "])"
   ]
  },
  {
   "cell_type": "code",
   "execution_count": 259,
   "metadata": {
    "gather": {
     "logged": 1615493161057
    }
   },
   "outputs": [],
   "source": [
    "# Compiling model\n",
    "model.compile(loss=tf.keras.losses.BinaryCrossentropy(from_logits=True),\n",
    "              optimizer=tf.keras.optimizers.Adam(0.0001),\n",
    "              metrics=['accuracy'])"
   ]
  },
  {
   "cell_type": "code",
   "execution_count": 260,
   "metadata": {
    "gather": {
     "logged": 1615495536302
    }
   },
   "outputs": [
    {
     "name": "stdout",
     "output_type": "stream",
     "text": [
      "Epoch 1/5\n",
      "2500/2500 [==============================] - 608s 241ms/step - loss: 0.6637 - accuracy: 0.5827\n",
      "Epoch 2/5\n",
      "2500/2500 [==============================] - 702s 281ms/step - loss: 0.4841 - accuracy: 0.8005\n",
      "Epoch 3/5\n",
      "2500/2500 [==============================] - 738s 295ms/step - loss: 0.4154 - accuracy: 0.8244\n",
      "Epoch 4/5\n",
      "2500/2500 [==============================] - 686s 274ms/step - loss: 0.3509 - accuracy: 0.8548\n",
      "Epoch 5/5\n",
      "2500/2500 [==============================] - 695s 278ms/step - loss: 0.3297 - accuracy: 0.8635\n"
     ]
    },
    {
     "data": {
      "text/plain": [
       "<tensorflow.python.keras.callbacks.History at 0x1c33c5555f8>"
      ]
     },
     "execution_count": 260,
     "metadata": {},
     "output_type": "execute_result"
    }
   ],
   "source": [
    "# Fitting model to training data\n",
    "model.fit(X_train, y_train, epochs=5)"
   ]
  },
  {
   "cell_type": "code",
   "execution_count": 261,
   "metadata": {
    "gather": {
     "logged": 1615495630137
    },
    "jupyter": {
     "outputs_hidden": false,
     "source_hidden": false
    },
    "nteract": {
     "transient": {
      "deleting": false
     }
    }
   },
   "outputs": [
    {
     "name": "stdout",
     "output_type": "stream",
     "text": [
      "Model: \"sequential_5\"\n",
      "_________________________________________________________________\n",
      "Layer (type)                 Output Shape              Param #   \n",
      "=================================================================\n",
      "text_vectorization_2 (TextVe (None, None)              0         \n",
      "_________________________________________________________________\n",
      "embedding_5 (Embedding)      (None, None, 10)          30000     \n",
      "_________________________________________________________________\n",
      "lstm_5 (LSTM)                (None, 10)                840       \n",
      "_________________________________________________________________\n",
      "dense_10 (Dense)             (None, 5)                 55        \n",
      "_________________________________________________________________\n",
      "dense_11 (Dense)             (None, 1)                 6         \n",
      "=================================================================\n",
      "Total params: 30,901\n",
      "Trainable params: 30,901\n",
      "Non-trainable params: 0\n",
      "_________________________________________________________________\n"
     ]
    }
   ],
   "source": [
    "# Printing model summary\n",
    "model.summary()"
   ]
  },
  {
   "cell_type": "code",
   "execution_count": 262,
   "metadata": {
    "gather": {
     "logged": 1615495751195
    },
    "jupyter": {
     "outputs_hidden": false,
     "source_hidden": false
    },
    "nteract": {
     "transient": {
      "deleting": false
     }
    }
   },
   "outputs": [
    {
     "name": "stdout",
     "output_type": "stream",
     "text": [
      "2055/2055 [==============================] - 205s 98ms/step - loss: 0.4667 - accuracy: 0.7802\n"
     ]
    },
    {
     "data": {
      "text/plain": [
       "[0.46667593717575073, 0.7801805734634399]"
      ]
     },
     "execution_count": 262,
     "metadata": {},
     "output_type": "execute_result"
    }
   ],
   "source": [
    "# Evaluating model on test data\n",
    "model.evaluate(X_test, y_test, batch_size = 64)"
   ]
  },
  {
   "cell_type": "code",
   "execution_count": 264,
   "metadata": {
    "gather": {
     "logged": 1615495919643
    },
    "jupyter": {
     "outputs_hidden": false,
     "source_hidden": false
    },
    "nteract": {
     "transient": {
      "deleting": false
     }
    }
   },
   "outputs": [],
   "source": [
    "# Predicting classes\n",
    "y_pred = model.predict_classes(X_test)"
   ]
  },
  {
   "cell_type": "code",
   "execution_count": 266,
   "metadata": {
    "gather": {
     "logged": 1615495939657
    },
    "jupyter": {
     "outputs_hidden": false,
     "source_hidden": false
    },
    "nteract": {
     "transient": {
      "deleting": false
     }
    }
   },
   "outputs": [
    {
     "name": "stdout",
     "output_type": "stream",
     "text": [
      "              precision    recall  f1-score   support\n",
      "\n",
      "           0       0.40      0.87      0.55     20491\n",
      "           1       0.97      0.76      0.85    110976\n",
      "\n",
      "    accuracy                           0.78    131467\n",
      "   macro avg       0.69      0.82      0.70    131467\n",
      "weighted avg       0.88      0.78      0.81    131467\n",
      "\n"
     ]
    }
   ],
   "source": [
    "# Printing classification report\n",
    "cr = classification_report(y_test, y_pred)\n",
    "print(cr)"
   ]
  },
  {
   "cell_type": "markdown",
   "metadata": {},
   "source": [
    "# Step 6 - Topic Modelling"
   ]
  },
  {
   "cell_type": "code",
   "execution_count": 54,
   "metadata": {},
   "outputs": [],
   "source": [
    "# Extracting all one star reviews\n",
    "reviews_1star = reviews[reviews[\"Score\"]==1]"
   ]
  },
  {
   "cell_type": "code",
   "execution_count": 58,
   "metadata": {},
   "outputs": [],
   "source": [
    "# Extracting 5 star reviews with limit set to 40000\n",
    "reviews_5star = reviews[reviews[\"Score\"]==5].sample(n=40000, random_state=42)"
   ]
  },
  {
   "cell_type": "code",
   "execution_count": 59,
   "metadata": {},
   "outputs": [
    {
     "data": {
      "text/plain": [
       "39193"
      ]
     },
     "execution_count": 59,
     "metadata": {},
     "output_type": "execute_result"
    }
   ],
   "source": [
    "# No of 1 star reviews\n",
    "reviews_1star['summary_text'].count()"
   ]
  },
  {
   "cell_type": "code",
   "execution_count": 60,
   "metadata": {},
   "outputs": [
    {
     "data": {
      "text/plain": [
       "40000"
      ]
     },
     "execution_count": 60,
     "metadata": {},
     "output_type": "execute_result"
    }
   ],
   "source": [
    "# No of 5 star reviews\n",
    "reviews_5star['summary_text'].count()"
   ]
  },
  {
   "cell_type": "code",
   "execution_count": 61,
   "metadata": {},
   "outputs": [],
   "source": [
    "# Vectorizing the data\n",
    "count_vect_1star = CountVectorizer(max_df=0.1, max_features=10000).fit(reviews_1star['summary_text'])\n",
    "countv_1star = count_vect_1star.transform(reviews_1star['summary_text'])\n",
    "\n",
    "count_vect_5star = CountVectorizer(max_df=0.1, max_features=10000).fit(reviews_5star['summary_text'])\n",
    "countv_5star = count_vect_5star.transform(reviews_5star['summary_text'])"
   ]
  },
  {
   "cell_type": "code",
   "execution_count": 63,
   "metadata": {},
   "outputs": [],
   "source": [
    "# LDA initialization\n",
    "\n",
    "lda20 = LatentDirichletAllocation(n_components=50, max_iter=25, learning_method='batch')"
   ]
  },
  {
   "cell_type": "code",
   "execution_count": 70,
   "metadata": {},
   "outputs": [],
   "source": [
    "# Fitting LDA model to 1 star reviews\n",
    "document_topics100 = lda20.fit_transform(countv_1star)"
   ]
  },
  {
   "cell_type": "code",
   "execution_count": 71,
   "metadata": {},
   "outputs": [],
   "source": [
    "# Sorting and getting feature names\n",
    "sorting20 = np.argsort(lda20.components_, axis=1)[:, ::-1]\n",
    "\n",
    "feature_names20 = np.array(count_vect_1star.get_feature_names())"
   ]
  },
  {
   "cell_type": "code",
   "execution_count": 73,
   "metadata": {},
   "outputs": [
    {
     "name": "stdout",
     "output_type": "stream",
     "text": [
      "topic 0       topic 1       topic 2       topic 3       topic 4       \n",
      "--------      --------      --------      --------      --------      \n",
      "bag           fat           date          chips         and           \n",
      "box           trans         expiration    bag           to            \n",
      "picture       fats          old           items         of            \n",
      "package       red           expired       return        was           \n",
      "organic       sugars        order         bags          broken        \n",
      "pound         box           months        ordered       is            \n",
      "matcha        products      smell         know          that          \n",
      "smoked        package       received      order         for           \n",
      "go            bug           stale         kettle        have          \n",
      "sardines      back          return        brand         order         \n",
      "you           something     item          great         on            \n",
      "open          company       year          case          in            \n",
      "bags          empty         best          company       very          \n",
      "use           content       2011          online        from          \n",
      "thought       know          sell          quality       all           \n",
      "buying        cans          junk          buying        with          \n",
      "skin          maybe         purchased     beans         so            \n",
      "body          see           two           item          but           \n",
      "broccoli      saturated     ordered       store         ordered       \n",
      "going         sure          box           policy        them          \n",
      "\n",
      "\n",
      "topic 5       topic 6       topic 7       topic 8       topic 9       \n",
      "--------      --------      --------      --------      --------      \n",
      "very          msg           mountain      eating        organic       \n",
      "disappointed  ingredients   eat           she           item          \n",
      "cheap         chips         green         day           says          \n",
      "stale         yeast         roast         whatever      whole         \n",
      "foods         kettle        wont          got           advertising   \n",
      "dog           brand         starbucks     three         ordered       \n",
      "real          used          dark          always        description   \n",
      "ingredients   thai          touch         little        order         \n",
      "corn          extract       bold          cat           pack          \n",
      "premium       chemicals     french        things        wheat         \n",
      "waste         chemical      kcups         around        title         \n",
      "eat           company       bitter        back          12            \n",
      "us            label         try           real          received      \n",
      "purchase      contain       blend         diet          false         \n",
      "licorice      new           cats          science       listed        \n",
      "so            products      pill          four          receive       \n",
      "caviar        ingredient    people        hungry        seller        \n",
      "old           many          coffees       eat           box           \n",
      "cat           recipe        stuff         morning       got           \n",
      "vendor        people        decaf         so            image         \n",
      "\n",
      "\n"
     ]
    }
   ],
   "source": [
    "# Print out 10 topics:\n",
    "import mglearn\n",
    "mglearn.tools.print_topics(topics=range(10), feature_names=feature_names20,\n",
    "                           sorting=sorting, topics_per_chunk=5, n_words=20)"
   ]
  },
  {
   "cell_type": "code",
   "execution_count": 64,
   "metadata": {},
   "outputs": [],
   "source": [
    "# Fitting LDA to 5 star reviews\n",
    "document_topics50_5star = lda20.fit_transform(countv_5star)"
   ]
  },
  {
   "cell_type": "code",
   "execution_count": 65,
   "metadata": {},
   "outputs": [],
   "source": [
    "# Sorting and getting feature names\n",
    "sorting50 = np.argsort(lda20.components_, axis=1)[:, ::-1]\n",
    "\n",
    "feature_names50 = np.array(count_vect_5star.get_feature_names())"
   ]
  },
  {
   "cell_type": "code",
   "execution_count": 68,
   "metadata": {},
   "outputs": [
    {
     "name": "stdout",
     "output_type": "stream",
     "text": [
      "topic 0       topic 1       topic 2       topic 3       topic 4       \n",
      "--------      --------      --------      --------      --------      \n",
      "local         treat         cup           yum           water         \n",
      "grocery       dog           strong        sugar         drink         \n",
      "cant          teeth         blend         tuna          bottle        \n",
      "cheaper       training      roast         real          day           \n",
      "buying        these         smooth        drink         drinking      \n",
      "go            small         bitter        calorie       night         \n",
      "found         give          starbucks     substitute    help          \n",
      "online        size          espresso      aftertaste    cold          \n",
      "carry         chew          decaf         tastes        feel          \n",
      "beat          greenies      french        without       morning       \n",
      "live          perfect       morning       workout       every         \n",
      "could         chicken       rich          no            sleep         \n",
      "bought        keep          dark          sweet         take          \n",
      "anywhere      treats        brew          recommend     work          \n",
      "sell          puppy         kcups         chemical      glass         \n",
      "order         she           keurig        slim          recommend     \n",
      "wrong         we            drink         energy        calm          \n",
      "case          smell         bold          its           oz            \n",
      "stopped       piece         full          zero          natural       \n",
      "bulk          go            its           come          keep          \n",
      "\n",
      "\n",
      "topic 5       topic 6       topic 7       topic 8       topic 9       \n",
      "--------      --------      --------      --------      --------      \n",
      "bag           smell         chocolate     year          dog           \n",
      "size          gift          hot           found         pet           \n",
      "container     look          dark          available     bone          \n",
      "fresh         christmas     milk          glad          he            \n",
      "plastic       forward       cocoa         we            eat           \n",
      "package       aroma         mint          able          she           \n",
      "small         nice          rich          used          we            \n",
      "box           tree          creamy        happy         puppy         \n",
      "keep          hair          sweet         amazoncom     healthy       \n",
      "large         shampoo       white         im            coat          \n",
      "packaging     first         dessert       hard          wellness      \n",
      "come          scent         smooth        thanks        dry           \n",
      "oz            truffle       vanilla       many          feeding       \n",
      "open          received      caramel       always        our           \n",
      "nice          set           mocha         market        feed          \n",
      "larger        basket        peppermint    thank         mix           \n",
      "plant         day           if            ago           recommend     \n",
      "put           pleasant      covered       stock         kibble        \n",
      "smaller       clean         mix           finding       old           \n",
      "sealed        holiday       perfect       order         year          \n",
      "\n",
      "\n"
     ]
    }
   ],
   "source": [
    "# Print out 10 topics:\n",
    "import mglearn\n",
    "mglearn.tools.print_topics(topics=range(10), feature_names=feature_names50,\n",
    "                           sorting=sorting50, topics_per_chunk=5, n_words=20)"
   ]
  },
  {
   "cell_type": "code",
   "execution_count": 74,
   "metadata": {},
   "outputs": [
    {
     "data": {
      "image/png": "[encoded data removed]",
      "text/plain": [
       "<Figure size 576x576 with 1 Axes>"
      ]
     },
     "metadata": {
      "needs_background": "light"
     },
     "output_type": "display_data"
    }
   ],
   "source": [
    "# Plotting word cloud for 1 star reviews\n",
    "\n",
    "comment_words = '' \n",
    "# Iterating through the reviews\n",
    "for val in reviews_1star['summary_text']: \n",
    "      \n",
    "    # typecaste each review to string \n",
    "    val = str(val) \n",
    "  \n",
    "    # split the value \n",
    "    tokens = val.split() \n",
    "      \n",
    "    # Converts each token into lowercase \n",
    "    for i in range(len(tokens)): \n",
    "        tokens[i] = tokens[i].lower()\n",
    "    \n",
    "    comment_words += \" \".join(tokens)+\" \"\n",
    "    \n",
    "wordcloud = WordCloud(width = 800, height = 800, \n",
    "                background_color ='white',\n",
    "                min_font_size = 10).generate(comment_words) \n",
    "  \n",
    "# Plot the WordCloud image                        \n",
    "plt.figure(figsize = (8, 8), facecolor = None) \n",
    "plt.imshow(wordcloud) \n",
    "plt.tight_layout(pad = 0) \n",
    "  \n",
    "plt.show() "
   ]
  },
  {
   "cell_type": "code",
   "execution_count": 75,
   "metadata": {},
   "outputs": [
    {
     "data": {
      "image/png": "[encoded data removed]",
      "text/plain": [
       "<Figure size 576x576 with 1 Axes>"
      ]
     },
     "metadata": {
      "needs_background": "light"
     },
     "output_type": "display_data"
    }
   ],
   "source": [
    "# Plotting word cloud for 1 star reviews\n",
    "\n",
    "comment_words = '' \n",
    "# Iterate through the reviews \n",
    "for val in reviews_5star['summary_text']: \n",
    "      \n",
    "    # Typecaste each val to string \n",
    "    val = str(val) \n",
    "  \n",
    "    # Split the value \n",
    "    tokens = val.split() \n",
    "      \n",
    "    # Converts each token into lowercase \n",
    "    for i in range(len(tokens)): \n",
    "        tokens[i] = tokens[i].lower()\n",
    "    \n",
    "    comment_words += \" \".join(tokens)+\" \"\n",
    "    \n",
    "wordcloud = WordCloud(width = 800, height = 800, \n",
    "                background_color ='white',\n",
    "                min_font_size = 10).generate(comment_words) \n",
    "  \n",
    "# Plot the WordCloud image                        \n",
    "plt.figure(figsize = (8, 8), facecolor = None) \n",
    "plt.imshow(wordcloud) \n",
    "plt.tight_layout(pad = 0) \n",
    "  \n",
    "plt.show() "
   ]
  }
 ],
 "metadata": {
  "kernelspec": {
   "display_name": "Python 3",
   "language": "python",
   "name": "python3"
  },
  "language_info": {
   "codemirror_mode": {
    "name": "ipython",
    "version": 3
   },
   "file_extension": ".py",
   "mimetype": "text/x-python",
   "name": "python",
   "nbconvert_exporter": "python",
   "pygments_lexer": "ipython3",
   "version": "3.7.3"
  }
 },
 "nbformat": 4,
 "nbformat_minor": 2
}
